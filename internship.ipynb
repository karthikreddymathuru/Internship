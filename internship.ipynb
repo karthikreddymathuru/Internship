{
 "cells": [
  {
   "cell_type": "code",
   "execution_count": 328,
   "metadata": {},
   "outputs": [],
   "source": [
    "import pandas as pd\n",
    "import numpy as np\n",
    "import matplotlib.pyplot as plt\n",
    "%matplotlib inline\n",
    "import seaborn as sns"
   ]
  },
  {
   "cell_type": "markdown",
   "metadata": {},
   "source": [
    "##### reading the data files"
   ]
  },
  {
   "cell_type": "code",
   "execution_count": 281,
   "metadata": {},
   "outputs": [],
   "source": [
    "diabetes = pd.read_csv(\"diabetic_data.csv\")\n",
    "id_mapping = pd.read_csv(\"IDs_mapping.csv\")"
   ]
  },
  {
   "cell_type": "markdown",
   "metadata": {},
   "source": [
    "#### dimensions of the data "
   ]
  },
  {
   "cell_type": "code",
   "execution_count": 282,
   "metadata": {},
   "outputs": [
    {
     "name": "stdout",
     "output_type": "stream",
     "text": [
      "(101766, 50)\n",
      "(67, 2)\n"
     ]
    }
   ],
   "source": [
    "print(diabetes.shape)\n",
    "print(id_mapping.shape)"
   ]
  },
  {
   "cell_type": "markdown",
   "metadata": {},
   "source": [
    "#### structure / data types of attributes"
   ]
  },
  {
   "cell_type": "code",
   "execution_count": 283,
   "metadata": {},
   "outputs": [
    {
     "data": {
      "text/plain": [
       "encounter_id                 int64\n",
       "patient_nbr                  int64\n",
       "race                        object\n",
       "gender                      object\n",
       "age                         object\n",
       "weight                      object\n",
       "admission_type_id            int64\n",
       "discharge_disposition_id     int64\n",
       "admission_source_id          int64\n",
       "time_in_hospital             int64\n",
       "payer_code                  object\n",
       "medical_specialty           object\n",
       "num_lab_procedures           int64\n",
       "num_procedures               int64\n",
       "num_medications              int64\n",
       "number_outpatient            int64\n",
       "number_emergency             int64\n",
       "number_inpatient             int64\n",
       "diag_1                      object\n",
       "diag_2                      object\n",
       "diag_3                      object\n",
       "number_diagnoses             int64\n",
       "max_glu_serum               object\n",
       "A1Cresult                   object\n",
       "metformin                   object\n",
       "repaglinide                 object\n",
       "nateglinide                 object\n",
       "chlorpropamide              object\n",
       "glimepiride                 object\n",
       "acetohexamide               object\n",
       "glipizide                   object\n",
       "glyburide                   object\n",
       "tolbutamide                 object\n",
       "pioglitazone                object\n",
       "rosiglitazone               object\n",
       "acarbose                    object\n",
       "miglitol                    object\n",
       "troglitazone                object\n",
       "tolazamide                  object\n",
       "examide                     object\n",
       "citoglipton                 object\n",
       "insulin                     object\n",
       "glyburide-metformin         object\n",
       "glipizide-metformin         object\n",
       "glimepiride-pioglitazone    object\n",
       "metformin-rosiglitazone     object\n",
       "metformin-pioglitazone      object\n",
       "change                      object\n",
       "diabetesMed                 object\n",
       "readmitted                  object\n",
       "dtype: object"
      ]
     },
     "execution_count": 283,
     "metadata": {},
     "output_type": "execute_result"
    }
   ],
   "source": [
    "diabetes.dtypes"
   ]
  },
  {
   "cell_type": "markdown",
   "metadata": {},
   "source": [
    "#### Numerical attributes"
   ]
  },
  {
   "cell_type": "code",
   "execution_count": 284,
   "metadata": {},
   "outputs": [
    {
     "name": "stderr",
     "output_type": "stream",
     "text": [
      "C:\\Users\\Lenovo\\Anaconda3\\lib\\site-packages\\ipykernel_launcher.py:1: DeprecationWarning: \n",
      ".ix is deprecated. Please use\n",
      ".loc for label based indexing or\n",
      ".iloc for positional indexing\n",
      "\n",
      "See the documentation here:\n",
      "http://pandas.pydata.org/pandas-docs/stable/indexing.html#deprecate_ix\n",
      "  \"\"\"Entry point for launching an IPython kernel.\n"
     ]
    },
    {
     "data": {
      "text/plain": [
       "encounter_id          int64\n",
       "patient_nbr           int64\n",
       "time_in_hospital      int64\n",
       "num_lab_procedures    int64\n",
       "num_procedures        int64\n",
       "num_medications       int64\n",
       "number_outpatient     int64\n",
       "number_emergency      int64\n",
       "number_inpatient      int64\n",
       "number_diagnoses      int64\n",
       "dtype: object"
      ]
     },
     "execution_count": 284,
     "metadata": {},
     "output_type": "execute_result"
    }
   ],
   "source": [
    "diabetes_num_attr = diabetes.ix[:,['encounter_id','patient_nbr',\n",
    "                                                'time_in_hospital','num_lab_procedures',\n",
    "                                                'num_procedures','num_medications',\n",
    "                                                'number_outpatient','number_emergency',\n",
    "                                                'number_inpatient','number_diagnoses']]\n",
    "diabetes_num_attr.dtypes"
   ]
  },
  {
   "cell_type": "markdown",
   "metadata": {},
   "source": [
    "#### Categorical attributes"
   ]
  },
  {
   "cell_type": "code",
   "execution_count": 285,
   "metadata": {},
   "outputs": [
    {
     "data": {
      "text/plain": [
       "race                         object\n",
       "gender                       object\n",
       "age                          object\n",
       "admission_type_id             int64\n",
       "discharge_disposition_id      int64\n",
       "admission_source_id           int64\n",
       "payer_code                   object\n",
       "medical_specialty            object\n",
       "diag_1                       object\n",
       "diag_2                       object\n",
       "diag_3                       object\n",
       "max_glu_serum                object\n",
       "A1Cresult                    object\n",
       "metformin                    object\n",
       "repaglinide                  object\n",
       "nateglinide                  object\n",
       "chlorpropamide               object\n",
       "glimepiride                  object\n",
       "acetohexamide                object\n",
       "glipizide                    object\n",
       "glyburide                    object\n",
       "tolbutamide                  object\n",
       "pioglitazone                 object\n",
       "rosiglitazone                object\n",
       "acarbose                     object\n",
       "miglitol                     object\n",
       "troglitazone                 object\n",
       "tolazamide                   object\n",
       "examide                      object\n",
       "citoglipton                  object\n",
       "insulin                      object\n",
       "glyburide.metformin         float64\n",
       "glipizide.metformin         float64\n",
       "glimepiride.pioglitazone    float64\n",
       "metformin.rosiglitazone     float64\n",
       "metformin.pioglitazone      float64\n",
       "change                       object\n",
       "diabetesMed                  object\n",
       "readmitted                   object\n",
       "dtype: object"
      ]
     },
     "execution_count": 285,
     "metadata": {},
     "output_type": "execute_result"
    }
   ],
   "source": [
    "diabetes_cat_attr = diabetes.ix[:,[\"race\", \"gender\", \"age\", \"admission_type_id\", \"discharge_disposition_id\",\n",
    "\"admission_source_id\", \"payer_code\", \"medical_specialty\", \"diag_1\", \n",
    "\"diag_2\", \"diag_3\", \"max_glu_serum\", \"A1Cresult\", \"metformin\", \n",
    "\"repaglinide\", \"nateglinide\", \"chlorpropamide\", \"glimepiride\", \n",
    "\"acetohexamide\", \"glipizide\", \"glyburide\", \"tolbutamide\", \"pioglitazone\", \n",
    "\"rosiglitazone\", \"acarbose\", \"miglitol\", \"troglitazone\", \"tolazamide\", \n",
    "\"examide\", \"citoglipton\", \"insulin\", \"glyburide.metformin\", \"glipizide.metformin\", \n",
    "\"glimepiride.pioglitazone\", \"metformin.rosiglitazone\", \"metformin.pioglitazone\", \n",
    "\"change\", \"diabetesMed\", \"readmitted\"]]\n",
    "\n",
    "diabetes_cat_attr.dtypes"
   ]
  },
  {
   "cell_type": "markdown",
   "metadata": {},
   "source": [
    "#### Changing type of attributes"
   ]
  },
  {
   "cell_type": "code",
   "execution_count": 297,
   "metadata": {},
   "outputs": [],
   "source": [
    "for i in diabetes_cat_attr:\n",
    "    diabetes_cat_attr[i] = diabetes_cat_attr[i].astype('category')"
   ]
  },
  {
   "cell_type": "code",
   "execution_count": 296,
   "metadata": {},
   "outputs": [
    {
     "data": {
      "text/plain": [
       "race                         object\n",
       "gender                       object\n",
       "age                          object\n",
       "admission_type_id             int64\n",
       "discharge_disposition_id      int64\n",
       "admission_source_id           int64\n",
       "payer_code                   object\n",
       "medical_specialty            object\n",
       "diag_1                       object\n",
       "diag_2                       object\n",
       "diag_3                       object\n",
       "max_glu_serum                object\n",
       "A1Cresult                    object\n",
       "metformin                    object\n",
       "repaglinide                  object\n",
       "nateglinide                  object\n",
       "chlorpropamide               object\n",
       "glimepiride                  object\n",
       "acetohexamide                object\n",
       "glipizide                    object\n",
       "glyburide                    object\n",
       "tolbutamide                  object\n",
       "pioglitazone                 object\n",
       "rosiglitazone                object\n",
       "acarbose                     object\n",
       "miglitol                     object\n",
       "troglitazone                 object\n",
       "tolazamide                   object\n",
       "examide                      object\n",
       "citoglipton                  object\n",
       "insulin                      object\n",
       "glyburide.metformin         float64\n",
       "glipizide.metformin         float64\n",
       "glimepiride.pioglitazone    float64\n",
       "metformin.rosiglitazone     float64\n",
       "metformin.pioglitazone      float64\n",
       "change                       object\n",
       "diabetesMed                  object\n",
       "readmitted                   object\n",
       "dtype: object"
      ]
     },
     "execution_count": 296,
     "metadata": {},
     "output_type": "execute_result"
    }
   ],
   "source": [
    "diabetes_cat_attr.dtypes"
   ]
  },
  {
   "cell_type": "code",
   "execution_count": 307,
   "metadata": {},
   "outputs": [
    {
     "data": {
      "text/plain": [
       "encounter_id          int64\n",
       "patient_nbr           int64\n",
       "time_in_hospital      int64\n",
       "num_lab_procedures    int64\n",
       "num_procedures        int64\n",
       "num_medications       int64\n",
       "number_outpatient     int64\n",
       "number_emergency      int64\n",
       "number_inpatient      int64\n",
       "number_diagnoses      int64\n",
       "dtype: object"
      ]
     },
     "execution_count": 307,
     "metadata": {},
     "output_type": "execute_result"
    }
   ],
   "source": [
    "for i in diabetes_num_attr :\n",
    "    diabetes_num_attr[i] = diabetes_num_attr[i].astype(np.int64)\n",
    "\n",
    "diabetes_num_attr.dtypes"
   ]
  },
  {
   "cell_type": "markdown",
   "metadata": {},
   "source": [
    "#### Categories for all the categorical values"
   ]
  },
  {
   "cell_type": "code",
   "execution_count": 306,
   "metadata": {},
   "outputs": [
    {
     "name": "stdout",
     "output_type": "stream",
     "text": [
      "race\n",
      "Index(['?', 'AfricanAmerican', 'Asian', 'Caucasian', 'Hispanic', 'Other'], dtype='object')\n",
      "gender\n",
      "Index(['Female', 'Male', 'Unknown/Invalid'], dtype='object')\n",
      "age\n",
      "Index(['[0-10)', '[10-20)', '[20-30)', '[30-40)', '[40-50)', '[50-60)',\n",
      "       '[60-70)', '[70-80)', '[80-90)', '[90-100)'],\n",
      "      dtype='object')\n",
      "admission_type_id\n",
      "Int64Index([1, 2, 3, 4, 5, 6, 7, 8], dtype='int64')\n",
      "discharge_disposition_id\n",
      "Int64Index([ 1,  2,  3,  4,  5,  6,  7,  8,  9, 10, 11, 12, 13, 14, 15, 16, 17,\n",
      "            18, 19, 20, 22, 23, 24, 25, 27, 28],\n",
      "           dtype='int64')\n",
      "admission_source_id\n",
      "Int64Index([1, 2, 3, 4, 5, 6, 7, 8, 9, 10, 11, 13, 14, 17, 20, 22, 25], dtype='int64')\n",
      "payer_code\n",
      "Index(['?', 'BC', 'CH', 'CM', 'CP', 'DM', 'FR', 'HM', 'MC', 'MD', 'MP', 'OG',\n",
      "       'OT', 'PO', 'SI', 'SP', 'UN', 'WC'],\n",
      "      dtype='object')\n",
      "medical_specialty\n",
      "Index(['?', 'AllergyandImmunology', 'Anesthesiology',\n",
      "       'Anesthesiology-Pediatric', 'Cardiology', 'Cardiology-Pediatric',\n",
      "       'DCPTEAM', 'Dentistry', 'Dermatology', 'Emergency/Trauma',\n",
      "       'Endocrinology', 'Endocrinology-Metabolism', 'Family/GeneralPractice',\n",
      "       'Gastroenterology', 'Gynecology', 'Hematology', 'Hematology/Oncology',\n",
      "       'Hospitalist', 'InfectiousDiseases', 'InternalMedicine', 'Nephrology',\n",
      "       'Neurology', 'Neurophysiology', 'Obsterics&Gynecology-GynecologicOnco',\n",
      "       'Obstetrics', 'ObstetricsandGynecology', 'Oncology', 'Ophthalmology',\n",
      "       'Orthopedics', 'Orthopedics-Reconstructive', 'Osteopath',\n",
      "       'Otolaryngology', 'OutreachServices', 'Pathology', 'Pediatrics',\n",
      "       'Pediatrics-AllergyandImmunology', 'Pediatrics-CriticalCare',\n",
      "       'Pediatrics-EmergencyMedicine', 'Pediatrics-Endocrinology',\n",
      "       'Pediatrics-Hematology-Oncology', 'Pediatrics-InfectiousDiseases',\n",
      "       'Pediatrics-Neurology', 'Pediatrics-Pulmonology', 'Perinatology',\n",
      "       'PhysicalMedicineandRehabilitation', 'PhysicianNotFound', 'Podiatry',\n",
      "       'Proctology', 'Psychiatry', 'Psychiatry-Addictive',\n",
      "       'Psychiatry-Child/Adolescent', 'Psychology', 'Pulmonology',\n",
      "       'Radiologist', 'Radiology', 'Resident', 'Rheumatology', 'Speech',\n",
      "       'SportsMedicine', 'Surgeon', 'Surgery-Cardiovascular',\n",
      "       'Surgery-Cardiovascular/Thoracic', 'Surgery-Colon&Rectal',\n",
      "       'Surgery-General', 'Surgery-Maxillofacial', 'Surgery-Neuro',\n",
      "       'Surgery-Pediatric', 'Surgery-Plastic',\n",
      "       'Surgery-PlasticwithinHeadandNeck', 'Surgery-Thoracic',\n",
      "       'Surgery-Vascular', 'SurgicalSpecialty', 'Urology'],\n",
      "      dtype='object')\n",
      "diag_1\n",
      "Index(['10', '11', '110', '112', '114', '115', '117', '131', '133', '135',\n",
      "       ...\n",
      "       'V55', 'V56', 'V57', 'V58', 'V60', 'V63', 'V66', 'V67', 'V70', 'V71'],\n",
      "      dtype='object', length=717)\n",
      "diag_2\n",
      "Index(['11', '110', '111', '112', '114', '115', '117', '123', '130', '131',\n",
      "       ...\n",
      "       'V62', 'V63', 'V64', 'V65', 'V66', 'V69', 'V70', 'V72', 'V85', 'V86'],\n",
      "      dtype='object', length=749)\n",
      "diag_3\n",
      "Index(['11', '110', '111', '112', '115', '117', '122', '123', '131', '132',\n",
      "       ...\n",
      "       'V61', 'V62', 'V63', 'V64', 'V65', 'V66', 'V70', 'V72', 'V85', 'V86'],\n",
      "      dtype='object', length=790)\n",
      "max_glu_serum\n",
      "Index(['>200', '>300', 'None', 'Norm'], dtype='object')\n",
      "A1Cresult\n",
      "Index(['>7', '>8', 'None', 'Norm'], dtype='object')\n",
      "metformin\n",
      "Index(['Down', 'No', 'Steady', 'Up'], dtype='object')\n",
      "repaglinide\n",
      "Index(['Down', 'No', 'Steady', 'Up'], dtype='object')\n",
      "nateglinide\n",
      "Index(['Down', 'No', 'Steady', 'Up'], dtype='object')\n",
      "chlorpropamide\n",
      "Index(['Down', 'No', 'Steady', 'Up'], dtype='object')\n",
      "glimepiride\n",
      "Index(['Down', 'No', 'Steady', 'Up'], dtype='object')\n",
      "acetohexamide\n",
      "Index(['No', 'Steady'], dtype='object')\n",
      "glipizide\n",
      "Index(['Down', 'No', 'Steady', 'Up'], dtype='object')\n",
      "glyburide\n",
      "Index(['Down', 'No', 'Steady', 'Up'], dtype='object')\n",
      "tolbutamide\n",
      "Index(['No', 'Steady'], dtype='object')\n",
      "pioglitazone\n",
      "Index(['Down', 'No', 'Steady', 'Up'], dtype='object')\n",
      "rosiglitazone\n",
      "Index(['Down', 'No', 'Steady', 'Up'], dtype='object')\n",
      "acarbose\n",
      "Index(['Down', 'No', 'Steady', 'Up'], dtype='object')\n",
      "miglitol\n",
      "Index(['Down', 'No', 'Steady', 'Up'], dtype='object')\n",
      "troglitazone\n",
      "Index(['No', 'Steady'], dtype='object')\n",
      "tolazamide\n",
      "Index(['No', 'Steady', 'Up'], dtype='object')\n",
      "examide\n",
      "Index(['No'], dtype='object')\n",
      "citoglipton\n",
      "Index(['No'], dtype='object')\n",
      "insulin\n",
      "Index(['Down', 'No', 'Steady', 'Up'], dtype='object')\n",
      "glyburide.metformin\n",
      "Float64Index([], dtype='float64')\n",
      "glipizide.metformin\n",
      "Float64Index([], dtype='float64')\n",
      "glimepiride.pioglitazone\n",
      "Float64Index([], dtype='float64')\n",
      "metformin.rosiglitazone\n",
      "Float64Index([], dtype='float64')\n",
      "metformin.pioglitazone\n",
      "Float64Index([], dtype='float64')\n",
      "change\n",
      "Index(['Ch', 'No'], dtype='object')\n",
      "diabetesMed\n",
      "Index(['No', 'Yes'], dtype='object')\n",
      "readmitted\n",
      "Index(['<30', '>30', 'NO'], dtype='object')\n"
     ]
    }
   ],
   "source": [
    "for i in diabetes_cat_attr:\n",
    "    print(i)\n",
    "    print(diabetes_cat_attr[i].cat.categories)"
   ]
  },
  {
   "cell_type": "code",
   "execution_count": 313,
   "metadata": {
    "scrolled": true
   },
   "outputs": [
    {
     "data": {
      "text/plain": [
       "encounter_id                   int64\n",
       "patient_nbr                    int64\n",
       "time_in_hospital               int64\n",
       "num_lab_procedures             int64\n",
       "num_procedures                 int64\n",
       "num_medications                int64\n",
       "number_outpatient              int64\n",
       "number_emergency               int64\n",
       "number_inpatient               int64\n",
       "number_diagnoses               int64\n",
       "race                        category\n",
       "gender                      category\n",
       "age                         category\n",
       "admission_type_id           category\n",
       "discharge_disposition_id    category\n",
       "admission_source_id         category\n",
       "payer_code                  category\n",
       "medical_specialty           category\n",
       "diag_1                      category\n",
       "diag_2                      category\n",
       "diag_3                      category\n",
       "max_glu_serum               category\n",
       "A1Cresult                   category\n",
       "metformin                   category\n",
       "repaglinide                 category\n",
       "nateglinide                 category\n",
       "chlorpropamide              category\n",
       "glimepiride                 category\n",
       "acetohexamide               category\n",
       "glipizide                   category\n",
       "glyburide                   category\n",
       "tolbutamide                 category\n",
       "pioglitazone                category\n",
       "rosiglitazone               category\n",
       "acarbose                    category\n",
       "miglitol                    category\n",
       "troglitazone                category\n",
       "tolazamide                  category\n",
       "examide                     category\n",
       "citoglipton                 category\n",
       "insulin                     category\n",
       "glyburide.metformin         category\n",
       "glipizide.metformin         category\n",
       "glimepiride.pioglitazone    category\n",
       "metformin.rosiglitazone     category\n",
       "metformin.pioglitazone      category\n",
       "change                      category\n",
       "diabetesMed                 category\n",
       "readmitted                  category\n",
       "dtype: object"
      ]
     },
     "execution_count": 313,
     "metadata": {},
     "output_type": "execute_result"
    }
   ],
   "source": [
    "a = [diabetes_num_attr,diabetes_cat_attr]\n",
    "\n",
    "diabetes_new = pd.concat(a,axis=1)\n",
    "\n",
    "diabetes_new.dtypes"
   ]
  },
  {
   "cell_type": "code",
   "execution_count": 236,
   "metadata": {},
   "outputs": [
    {
     "name": "stdout",
     "output_type": "stream",
     "text": [
      "(101766, 39)\n",
      "(101766, 10)\n"
     ]
    }
   ],
   "source": [
    "print(diabetes_cat_attr.shape)\n",
    "print(diabetes_num_aatr.shape)"
   ]
  },
  {
   "cell_type": "code",
   "execution_count": 326,
   "metadata": {},
   "outputs": [],
   "source": [
    "cor = diabetes_num_attr.corr()\n"
   ]
  },
  {
   "cell_type": "code",
   "execution_count": 347,
   "metadata": {},
   "outputs": [
    {
     "data": {
      "text/plain": [
       "<matplotlib.axes._subplots.AxesSubplot at 0x2270938b748>"
      ]
     },
     "execution_count": 347,
     "metadata": {},
     "output_type": "execute_result"
    },
    {
     "data": {
      "image/png": "[encoded data removed]",
      "text/plain": [
       "<matplotlib.figure.Figure at 0x227094b3a20>"
      ]
     },
     "metadata": {},
     "output_type": "display_data"
    }
   ],
   "source": [
    "sns.heatmap(cor)"
   ]
  },
  {
   "cell_type": "code",
   "execution_count": 352,
   "metadata": {},
   "outputs": [
    {
     "data": {
      "text/plain": [
       "encounter_id                     0\n",
       "patient_nbr                      0\n",
       "time_in_hospital                 0\n",
       "num_lab_procedures               0\n",
       "num_procedures                   0\n",
       "num_medications                  0\n",
       "number_outpatient                0\n",
       "number_emergency                 0\n",
       "number_inpatient                 0\n",
       "number_diagnoses                 0\n",
       "race                             0\n",
       "gender                           0\n",
       "age                              0\n",
       "admission_type_id                0\n",
       "discharge_disposition_id         0\n",
       "admission_source_id              0\n",
       "payer_code                       0\n",
       "medical_specialty                0\n",
       "diag_1                           0\n",
       "diag_2                           0\n",
       "diag_3                           0\n",
       "max_glu_serum                    0\n",
       "A1Cresult                        0\n",
       "metformin                        0\n",
       "repaglinide                      0\n",
       "nateglinide                      0\n",
       "chlorpropamide                   0\n",
       "glimepiride                      0\n",
       "acetohexamide                    0\n",
       "glipizide                        0\n",
       "glyburide                        0\n",
       "tolbutamide                      0\n",
       "pioglitazone                     0\n",
       "rosiglitazone                    0\n",
       "acarbose                         0\n",
       "miglitol                         0\n",
       "troglitazone                     0\n",
       "tolazamide                       0\n",
       "examide                          0\n",
       "citoglipton                      0\n",
       "insulin                          0\n",
       "glyburide.metformin         101766\n",
       "glipizide.metformin         101766\n",
       "glimepiride.pioglitazone    101766\n",
       "metformin.rosiglitazone     101766\n",
       "metformin.pioglitazone      101766\n",
       "change                           0\n",
       "diabetesMed                      0\n",
       "readmitted                       0\n",
       "dtype: int64"
      ]
     },
     "execution_count": 352,
     "metadata": {},
     "output_type": "execute_result"
    }
   ],
   "source": [
    "diabetes_new.isnull().sum()"
   ]
  },
  {
   "cell_type": "code",
   "execution_count": null,
   "metadata": {},
   "outputs": [],
   "source": []
  },
  {
   "cell_type": "code",
   "execution_count": 355,
   "metadata": {},
   "outputs": [
    {
     "data": {
      "text/plain": [
       "0        NaN\n",
       "1        NaN\n",
       "2        NaN\n",
       "3        NaN\n",
       "4        NaN\n",
       "5        NaN\n",
       "6        NaN\n",
       "7        NaN\n",
       "8        NaN\n",
       "9        NaN\n",
       "10       NaN\n",
       "11       NaN\n",
       "12       NaN\n",
       "13       NaN\n",
       "14       NaN\n",
       "15       NaN\n",
       "16       NaN\n",
       "17       NaN\n",
       "18       NaN\n",
       "19       NaN\n",
       "20       NaN\n",
       "21       NaN\n",
       "22       NaN\n",
       "23       NaN\n",
       "24       NaN\n",
       "25       NaN\n",
       "26       NaN\n",
       "27       NaN\n",
       "28       NaN\n",
       "29       NaN\n",
       "          ..\n",
       "101736   NaN\n",
       "101737   NaN\n",
       "101738   NaN\n",
       "101739   NaN\n",
       "101740   NaN\n",
       "101741   NaN\n",
       "101742   NaN\n",
       "101743   NaN\n",
       "101744   NaN\n",
       "101745   NaN\n",
       "101746   NaN\n",
       "101747   NaN\n",
       "101748   NaN\n",
       "101749   NaN\n",
       "101750   NaN\n",
       "101751   NaN\n",
       "101752   NaN\n",
       "101753   NaN\n",
       "101754   NaN\n",
       "101755   NaN\n",
       "101756   NaN\n",
       "101757   NaN\n",
       "101758   NaN\n",
       "101759   NaN\n",
       "101760   NaN\n",
       "101761   NaN\n",
       "101762   NaN\n",
       "101763   NaN\n",
       "101764   NaN\n",
       "101765   NaN\n",
       "Name: glyburide.metformin, Length: 101766, dtype: category\n",
       "Categories (0, float64): []"
      ]
     },
     "execution_count": 355,
     "metadata": {},
     "output_type": "execute_result"
    }
   ],
   "source": [
    "diabetes_new['glyburide.metformin']"
   ]
  }
 ],
 "metadata": {
  "kernelspec": {
   "display_name": "Python 3",
   "language": "python",
   "name": "python3"
  },
  "language_info": {
   "codemirror_mode": {
    "name": "ipython",
    "version": 3
   },
   "file_extension": ".py",
   "mimetype": "text/x-python",
   "name": "python",
   "nbconvert_exporter": "python",
   "pygments_lexer": "ipython3",
   "version": "3.6.1"
  }
 },
 "nbformat": 4,
 "nbformat_minor": 2
}
