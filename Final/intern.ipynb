{
 "cells": [
  {
   "cell_type": "code",
   "execution_count": 1,
   "metadata": {
    "collapsed": true
   },
   "outputs": [],
   "source": [
    "import pandas as pd\n",
    "import numpy as np\n",
    "import matplotlib.pyplot as plt\n",
    "%matplotlib inline\n",
    "import seaborn as sns\n",
    "import xgboost"
   ]
  },
  {
   "cell_type": "markdown",
   "metadata": {},
   "source": [
    "#### Reading the data \n"
   ]
  },
  {
   "cell_type": "code",
   "execution_count": 2,
   "metadata": {},
   "outputs": [
    {
     "name": "stderr",
     "output_type": "stream",
     "text": [
      "C:\\Users\\Lenovo\\Anaconda3\\lib\\site-packages\\IPython\\core\\interactiveshell.py:2717: DtypeWarning: Columns (10) have mixed types. Specify dtype option on import or set low_memory=False.\n",
      "  interactivity=interactivity, compiler=compiler, result=result)\n"
     ]
    }
   ],
   "source": [
    "diabetes = pd.read_csv(\"diabetic_data.csv\",na_values=['?'])"
   ]
  },
  {
   "cell_type": "markdown",
   "metadata": {},
   "source": [
    "#### Dimensions of the data"
   ]
  },
  {
   "cell_type": "code",
   "execution_count": 3,
   "metadata": {},
   "outputs": [
    {
     "name": "stdout",
     "output_type": "stream",
     "text": [
      "(101766, 50)\n"
     ]
    }
   ],
   "source": [
    "print(diabetes.shape)"
   ]
  },
  {
   "cell_type": "markdown",
   "metadata": {},
   "source": [
    "#### Structure of the data"
   ]
  },
  {
   "cell_type": "code",
   "execution_count": 4,
   "metadata": {},
   "outputs": [
    {
     "data": {
      "text/plain": [
       "encounter_id                 int64\n",
       "patient_nbr                  int64\n",
       "race                        object\n",
       "gender                      object\n",
       "age                         object\n",
       "weight                      object\n",
       "admission_type_id            int64\n",
       "discharge_disposition_id     int64\n",
       "admission_source_id          int64\n",
       "time_in_hospital             int64\n",
       "payer_code                  object\n",
       "medical_specialty           object\n",
       "num_lab_procedures           int64\n",
       "num_procedures               int64\n",
       "num_medications              int64\n",
       "number_outpatient            int64\n",
       "number_emergency             int64\n",
       "number_inpatient             int64\n",
       "diag_1                      object\n",
       "diag_2                      object\n",
       "diag_3                      object\n",
       "number_diagnoses             int64\n",
       "max_glu_serum               object\n",
       "A1Cresult                   object\n",
       "metformin                   object\n",
       "repaglinide                 object\n",
       "nateglinide                 object\n",
       "chlorpropamide              object\n",
       "glimepiride                 object\n",
       "acetohexamide               object\n",
       "glipizide                   object\n",
       "glyburide                   object\n",
       "tolbutamide                 object\n",
       "pioglitazone                object\n",
       "rosiglitazone               object\n",
       "acarbose                    object\n",
       "miglitol                    object\n",
       "troglitazone                object\n",
       "tolazamide                  object\n",
       "examide                     object\n",
       "citoglipton                 object\n",
       "insulin                     object\n",
       "glyburide-metformin         object\n",
       "glipizide-metformin         object\n",
       "glimepiride-pioglitazone    object\n",
       "metformin-rosiglitazone     object\n",
       "metformin-pioglitazone      object\n",
       "change                      object\n",
       "diabetesMed                 object\n",
       "readmitted                  object\n",
       "dtype: object"
      ]
     },
     "execution_count": 4,
     "metadata": {},
     "output_type": "execute_result"
    }
   ],
   "source": [
    "diabetes.dtypes"
   ]
  },
  {
   "cell_type": "markdown",
   "metadata": {},
   "source": [
    "#### Missing values"
   ]
  },
  {
   "cell_type": "code",
   "execution_count": 5,
   "metadata": {},
   "outputs": [
    {
     "data": {
      "text/plain": [
       "encounter_id                    0\n",
       "patient_nbr                     0\n",
       "race                         2273\n",
       "gender                          0\n",
       "age                             0\n",
       "weight                      98569\n",
       "admission_type_id               0\n",
       "discharge_disposition_id        0\n",
       "admission_source_id             0\n",
       "time_in_hospital                0\n",
       "payer_code                  40256\n",
       "medical_specialty           49949\n",
       "num_lab_procedures              0\n",
       "num_procedures                  0\n",
       "num_medications                 0\n",
       "number_outpatient               0\n",
       "number_emergency                0\n",
       "number_inpatient                0\n",
       "diag_1                         21\n",
       "diag_2                        358\n",
       "diag_3                       1423\n",
       "number_diagnoses                0\n",
       "max_glu_serum                   0\n",
       "A1Cresult                       0\n",
       "metformin                       0\n",
       "repaglinide                     0\n",
       "nateglinide                     0\n",
       "chlorpropamide                  0\n",
       "glimepiride                     0\n",
       "acetohexamide                   0\n",
       "glipizide                       0\n",
       "glyburide                       0\n",
       "tolbutamide                     0\n",
       "pioglitazone                    0\n",
       "rosiglitazone                   0\n",
       "acarbose                        0\n",
       "miglitol                        0\n",
       "troglitazone                    0\n",
       "tolazamide                      0\n",
       "examide                         0\n",
       "citoglipton                     0\n",
       "insulin                         0\n",
       "glyburide-metformin             0\n",
       "glipizide-metformin             0\n",
       "glimepiride-pioglitazone        0\n",
       "metformin-rosiglitazone         0\n",
       "metformin-pioglitazone          0\n",
       "change                          0\n",
       "diabetesMed                     0\n",
       "readmitted                      0\n",
       "dtype: int64"
      ]
     },
     "execution_count": 5,
     "metadata": {},
     "output_type": "execute_result"
    }
   ],
   "source": [
    "diabetes.isnull().sum()"
   ]
  },
  {
   "cell_type": "code",
   "execution_count": 6,
   "metadata": {
    "collapsed": true
   },
   "outputs": [],
   "source": [
    "# Dropping the columns with missing values more than 50%\n",
    "diabetes = diabetes.drop(['medical_specialty','payer_code','weight'],1) "
   ]
  },
  {
   "cell_type": "code",
   "execution_count": 7,
   "metadata": {},
   "outputs": [
    {
     "data": {
      "text/plain": [
       "encounter_id                 int64\n",
       "patient_nbr                  int64\n",
       "race                        object\n",
       "gender                      object\n",
       "age                         object\n",
       "admission_type_id            int64\n",
       "discharge_disposition_id     int64\n",
       "admission_source_id          int64\n",
       "time_in_hospital             int64\n",
       "num_lab_procedures           int64\n",
       "num_procedures               int64\n",
       "num_medications              int64\n",
       "number_outpatient            int64\n",
       "number_emergency             int64\n",
       "number_inpatient             int64\n",
       "diag_1                      object\n",
       "diag_2                      object\n",
       "diag_3                      object\n",
       "number_diagnoses             int64\n",
       "max_glu_serum               object\n",
       "A1Cresult                   object\n",
       "metformin                   object\n",
       "repaglinide                 object\n",
       "nateglinide                 object\n",
       "chlorpropamide              object\n",
       "glimepiride                 object\n",
       "acetohexamide               object\n",
       "glipizide                   object\n",
       "glyburide                   object\n",
       "tolbutamide                 object\n",
       "pioglitazone                object\n",
       "rosiglitazone               object\n",
       "acarbose                    object\n",
       "miglitol                    object\n",
       "troglitazone                object\n",
       "tolazamide                  object\n",
       "examide                     object\n",
       "citoglipton                 object\n",
       "insulin                     object\n",
       "glyburide-metformin         object\n",
       "glipizide-metformin         object\n",
       "glimepiride-pioglitazone    object\n",
       "metformin-rosiglitazone     object\n",
       "metformin-pioglitazone      object\n",
       "change                      object\n",
       "diabetesMed                 object\n",
       "readmitted                  object\n",
       "dtype: object"
      ]
     },
     "execution_count": 7,
     "metadata": {},
     "output_type": "execute_result"
    }
   ],
   "source": [
    "# Data Types\n",
    "diabetes.dtypes"
   ]
  },
  {
   "cell_type": "code",
   "execution_count": 8,
   "metadata": {},
   "outputs": [
    {
     "data": {
      "text/plain": [
       "(101766, 47)"
      ]
     },
     "execution_count": 8,
     "metadata": {},
     "output_type": "execute_result"
    }
   ],
   "source": [
    "diabetes.shape"
   ]
  },
  {
   "cell_type": "markdown",
   "metadata": {},
   "source": [
    "#### Numerical attributes"
   ]
  },
  {
   "cell_type": "code",
   "execution_count": 9,
   "metadata": {},
   "outputs": [
    {
     "data": {
      "text/plain": [
       "encounter_id          int64\n",
       "patient_nbr           int64\n",
       "time_in_hospital      int64\n",
       "num_lab_procedures    int64\n",
       "num_procedures        int64\n",
       "num_medications       int64\n",
       "number_outpatient     int64\n",
       "number_emergency      int64\n",
       "number_inpatient      int64\n",
       "number_diagnoses      int64\n",
       "dtype: object"
      ]
     },
     "execution_count": 9,
     "metadata": {},
     "output_type": "execute_result"
    }
   ],
   "source": [
    "diabetes_num_attr = diabetes.iloc[:,[0,1,8,9,10,11,12,13,14,18]]\n",
    "diabetes_num_attr.dtypes"
   ]
  },
  {
   "cell_type": "markdown",
   "metadata": {},
   "source": [
    "#### Categorical attributes"
   ]
  },
  {
   "cell_type": "code",
   "execution_count": 10,
   "metadata": {},
   "outputs": [
    {
     "data": {
      "text/plain": [
       "race                        object\n",
       "gender                      object\n",
       "age                         object\n",
       "admission_type_id            int64\n",
       "discharge_disposition_id     int64\n",
       "admission_source_id          int64\n",
       "diag_1                      object\n",
       "diag_2                      object\n",
       "diag_3                      object\n",
       "max_glu_serum               object\n",
       "A1Cresult                   object\n",
       "metformin                   object\n",
       "repaglinide                 object\n",
       "nateglinide                 object\n",
       "chlorpropamide              object\n",
       "glimepiride                 object\n",
       "acetohexamide               object\n",
       "glipizide                   object\n",
       "glyburide                   object\n",
       "tolbutamide                 object\n",
       "pioglitazone                object\n",
       "rosiglitazone               object\n",
       "acarbose                    object\n",
       "miglitol                    object\n",
       "troglitazone                object\n",
       "tolazamide                  object\n",
       "examide                     object\n",
       "citoglipton                 object\n",
       "insulin                     object\n",
       "glyburide-metformin         object\n",
       "glipizide-metformin         object\n",
       "glimepiride-pioglitazone    object\n",
       "metformin-rosiglitazone     object\n",
       "metformin-pioglitazone      object\n",
       "change                      object\n",
       "diabetesMed                 object\n",
       "readmitted                  object\n",
       "dtype: object"
      ]
     },
     "execution_count": 10,
     "metadata": {},
     "output_type": "execute_result"
    }
   ],
   "source": [
    "diabetes_cat_attr = diabetes.iloc[:,[2,3,4,5,6,7,15,16,17,19,20,21,22,23,24,25,26,27,28,\n",
    "                                     29,30,31,32,33,34,35,36,37,38,39,40,41,42,43,44,45,46]]\n",
    "\n",
    "diabetes_cat_attr.dtypes"
   ]
  },
  {
   "cell_type": "markdown",
   "metadata": {},
   "source": [
    "#### Chnaging the attribute types"
   ]
  },
  {
   "cell_type": "code",
   "execution_count": 11,
   "metadata": {},
   "outputs": [
    {
     "name": "stderr",
     "output_type": "stream",
     "text": [
      "C:\\Users\\Lenovo\\Anaconda3\\lib\\site-packages\\ipykernel_launcher.py:3: SettingWithCopyWarning: \n",
      "A value is trying to be set on a copy of a slice from a DataFrame.\n",
      "Try using .loc[row_indexer,col_indexer] = value instead\n",
      "\n",
      "See the caveats in the documentation: http://pandas.pydata.org/pandas-docs/stable/indexing.html#indexing-view-versus-copy\n",
      "  This is separate from the ipykernel package so we can avoid doing imports until\n"
     ]
    },
    {
     "data": {
      "text/plain": [
       "race                        category\n",
       "gender                      category\n",
       "age                         category\n",
       "admission_type_id           category\n",
       "discharge_disposition_id    category\n",
       "admission_source_id         category\n",
       "diag_1                      category\n",
       "diag_2                      category\n",
       "diag_3                      category\n",
       "max_glu_serum               category\n",
       "A1Cresult                   category\n",
       "metformin                   category\n",
       "repaglinide                 category\n",
       "nateglinide                 category\n",
       "chlorpropamide              category\n",
       "glimepiride                 category\n",
       "acetohexamide               category\n",
       "glipizide                   category\n",
       "glyburide                   category\n",
       "tolbutamide                 category\n",
       "pioglitazone                category\n",
       "rosiglitazone               category\n",
       "acarbose                    category\n",
       "miglitol                    category\n",
       "troglitazone                category\n",
       "tolazamide                  category\n",
       "examide                     category\n",
       "citoglipton                 category\n",
       "insulin                     category\n",
       "glyburide-metformin         category\n",
       "glipizide-metformin         category\n",
       "glimepiride-pioglitazone    category\n",
       "metformin-rosiglitazone     category\n",
       "metformin-pioglitazone      category\n",
       "change                      category\n",
       "diabetesMed                 category\n",
       "readmitted                  category\n",
       "dtype: object"
      ]
     },
     "execution_count": 11,
     "metadata": {},
     "output_type": "execute_result"
    }
   ],
   "source": [
    "# Categorical attributes\n",
    "for i in diabetes_cat_attr:\n",
    "    diabetes_cat_attr[i] = diabetes[i].astype('category')\n",
    "diabetes_cat_attr.dtypes"
   ]
  },
  {
   "cell_type": "code",
   "execution_count": 12,
   "metadata": {},
   "outputs": [
    {
     "name": "stdout",
     "output_type": "stream",
     "text": [
      "Caucasian          76099\n",
      "AfricanAmerican    19210\n",
      "Hispanic            2037\n",
      "Other               1506\n",
      "Asian                641\n",
      "Name: race, dtype: int64\n",
      "\n",
      "\n",
      "Female             54708\n",
      "Male               47055\n",
      "Unknown/Invalid        3\n",
      "Name: gender, dtype: int64\n",
      "\n",
      "\n",
      "[70-80)     26068\n",
      "[60-70)     22483\n",
      "[50-60)     17256\n",
      "[80-90)     17197\n",
      "[40-50)      9685\n",
      "[30-40)      3775\n",
      "[90-100)     2793\n",
      "[20-30)      1657\n",
      "[10-20)       691\n",
      "[0-10)        161\n",
      "Name: age, dtype: int64\n",
      "\n",
      "\n",
      "1    53990\n",
      "3    18869\n",
      "2    18480\n",
      "6     5291\n",
      "5     4785\n",
      "8      320\n",
      "7       21\n",
      "4       10\n",
      "Name: admission_type_id, dtype: int64\n",
      "\n",
      "\n",
      "1     60234\n",
      "3     13954\n",
      "6     12902\n",
      "18     3691\n",
      "2      2128\n",
      "22     1993\n",
      "11     1642\n",
      "5      1184\n",
      "25      989\n",
      "4       815\n",
      "7       623\n",
      "23      412\n",
      "13      399\n",
      "14      372\n",
      "28      139\n",
      "8       108\n",
      "15       63\n",
      "24       48\n",
      "9        21\n",
      "17       14\n",
      "16       11\n",
      "19        8\n",
      "10        6\n",
      "27        5\n",
      "12        3\n",
      "20        2\n",
      "Name: discharge_disposition_id, dtype: int64\n",
      "\n",
      "\n",
      "7     57494\n",
      "1     29565\n",
      "17     6781\n",
      "4      3187\n",
      "6      2264\n",
      "2      1104\n",
      "5       855\n",
      "3       187\n",
      "20      161\n",
      "9       125\n",
      "8        16\n",
      "22       12\n",
      "10        8\n",
      "11        2\n",
      "14        2\n",
      "25        2\n",
      "13        1\n",
      "Name: admission_source_id, dtype: int64\n",
      "\n",
      "\n",
      "circulatory sys           30389\n",
      "immunity                  11461\n",
      "respiratory               10449\n",
      "digestive                  9276\n",
      "ill-defined                7722\n",
      "injury & poisining         7046\n",
      "genitourinary              5079\n",
      "musculoskeletal            4957\n",
      "neoplasams                 3435\n",
      "nervous & sense organs     2918\n",
      "skin                       2578\n",
      "mental disorders           2278\n",
      "External Injury            1645\n",
      "blood                      1103\n",
      "pergnency/childbirth        693\n",
      "infectious                  663\n",
      "congenital anomalies         53\n",
      "Name: diag_1, dtype: int64\n",
      "\n",
      "\n",
      "circulatory sys           31841\n",
      "immunity                  21020\n",
      "respiratory               10252\n",
      "genitourinary              7987\n",
      "ill-defined                4661\n",
      "digestive                  4004\n",
      "skin                       3870\n",
      "blood                      2927\n",
      "mental disorders           2661\n",
      "neoplasams                 2547\n",
      "injury & poisining         2464\n",
      "External Injuries          1805\n",
      "nervous & sense organs     1772\n",
      "musculoskeletal            1764\n",
      "infectious                  576\n",
      "pergnency/childbirth        416\n",
      "E878                        113\n",
      "E885                        112\n",
      "congenital anomalies        110\n",
      "E888                        109\n",
      "E849                         54\n",
      "E932                         38\n",
      "E942                         34\n",
      "E935                         24\n",
      "E947                         21\n",
      "E884                         21\n",
      "E879                         20\n",
      "E880                         19\n",
      "E928                         15\n",
      "E939                         13\n",
      "                          ...  \n",
      "E931                          3\n",
      "E906                          3\n",
      "E905                          3\n",
      "E853                          2\n",
      "E814                          2\n",
      "E941                          2\n",
      "E819                          2\n",
      "E821                          2\n",
      "E916                          2\n",
      "E813                          1\n",
      "E915                          1\n",
      "E817                          1\n",
      "E818                          1\n",
      "E826                          1\n",
      "E829                          1\n",
      "E980                          1\n",
      "E850                          1\n",
      "E900                          1\n",
      "E854                          1\n",
      "E890                          1\n",
      "E868                          1\n",
      "E968                          1\n",
      "E965                          1\n",
      "E945                          1\n",
      "E929                          1\n",
      "E882                          1\n",
      "E883                          1\n",
      "E938                          1\n",
      "E919                          1\n",
      "E918                          1\n",
      "Name: diag_2, Length: 76, dtype: int64\n",
      "\n",
      "\n",
      "circulatory sys           30668\n",
      "immunity                  26309\n",
      "respiratory                6779\n",
      "genitourinary              6327\n",
      "ill-defined                4569\n",
      "External Injuries          3814\n",
      "digestive                  3612\n",
      "mental disorders           3138\n",
      "skin                       2771\n",
      "blood                      2491\n",
      "injury & poisining         1974\n",
      "nervous & sense organs     1938\n",
      "musculoskeletal            1915\n",
      "neoplasams                 1857\n",
      "infectious                  530\n",
      "pergnency/childbirth        310\n",
      "E849                        219\n",
      "E878                        164\n",
      "E888                        131\n",
      "E885                        117\n",
      "congenital anomalies         97\n",
      "E932                         71\n",
      "E879                         59\n",
      "E942                         52\n",
      "E947                         38\n",
      "E935                         30\n",
      "E880                         26\n",
      "E884                         24\n",
      "E934                         22\n",
      "E812                         21\n",
      "                          ...  \n",
      "E946                          2\n",
      "E924                          2\n",
      "E919                          2\n",
      "E828                          1\n",
      "E853                          1\n",
      "E922                          1\n",
      "E987                          1\n",
      "E900                          1\n",
      "E826                          1\n",
      "E825                          1\n",
      "E854                          1\n",
      "E945                          1\n",
      "E815                          1\n",
      "E822                          1\n",
      "E861                          1\n",
      "E949                          1\n",
      "E894                          1\n",
      "E864                          1\n",
      "E865                          1\n",
      "E876                          1\n",
      "E966                          1\n",
      "E965                          1\n",
      "E915                          1\n",
      "E882                          1\n",
      "E883                          1\n",
      "E912                          1\n",
      "E955                          1\n",
      "E904                          1\n",
      "E892                          1\n",
      "E886                          1\n",
      "Name: diag_3, Length: 94, dtype: int64\n",
      "\n",
      "\n",
      "None    96420\n",
      "Norm     2597\n",
      ">200     1485\n",
      ">300     1264\n",
      "Name: max_glu_serum, dtype: int64\n",
      "\n",
      "\n",
      "None    84748\n",
      ">8       8216\n",
      "Norm     4990\n",
      ">7       3812\n",
      "Name: A1Cresult, dtype: int64\n",
      "\n",
      "\n",
      "No        81778\n",
      "Steady    18346\n",
      "Up         1067\n",
      "Down        575\n",
      "Name: metformin, dtype: int64\n",
      "\n",
      "\n",
      "No        100227\n",
      "Steady      1384\n",
      "Up           110\n",
      "Down          45\n",
      "Name: repaglinide, dtype: int64\n",
      "\n",
      "\n",
      "No        101063\n",
      "Steady       668\n",
      "Up            24\n",
      "Down          11\n",
      "Name: nateglinide, dtype: int64\n",
      "\n",
      "\n",
      "No        101680\n",
      "Steady        79\n",
      "Up             6\n",
      "Down           1\n",
      "Name: chlorpropamide, dtype: int64\n",
      "\n",
      "\n",
      "No        96575\n",
      "Steady     4670\n",
      "Up          327\n",
      "Down        194\n",
      "Name: glimepiride, dtype: int64\n",
      "\n",
      "\n",
      "No        101765\n",
      "Steady         1\n",
      "Name: acetohexamide, dtype: int64\n",
      "\n",
      "\n",
      "No        89080\n",
      "Steady    11356\n",
      "Up          770\n",
      "Down        560\n",
      "Name: glipizide, dtype: int64\n",
      "\n",
      "\n",
      "No        91116\n",
      "Steady     9274\n",
      "Up          812\n",
      "Down        564\n",
      "Name: glyburide, dtype: int64\n",
      "\n",
      "\n",
      "No        101743\n",
      "Steady        23\n",
      "Name: tolbutamide, dtype: int64\n",
      "\n",
      "\n",
      "No        94438\n",
      "Steady     6976\n",
      "Up          234\n",
      "Down        118\n",
      "Name: pioglitazone, dtype: int64\n",
      "\n",
      "\n",
      "No        95401\n",
      "Steady     6100\n",
      "Up          178\n",
      "Down         87\n",
      "Name: rosiglitazone, dtype: int64\n",
      "\n",
      "\n",
      "No        101458\n",
      "Steady       295\n",
      "Up            10\n",
      "Down           3\n",
      "Name: acarbose, dtype: int64\n",
      "\n",
      "\n",
      "No        101728\n",
      "Steady        31\n",
      "Down           5\n",
      "Up             2\n",
      "Name: miglitol, dtype: int64\n",
      "\n",
      "\n",
      "No        101763\n",
      "Steady         3\n",
      "Name: troglitazone, dtype: int64\n",
      "\n",
      "\n",
      "No        101727\n",
      "Steady        38\n",
      "Up             1\n",
      "Name: tolazamide, dtype: int64\n",
      "\n",
      "\n",
      "No    101766\n",
      "Name: examide, dtype: int64\n",
      "\n",
      "\n",
      "No    101766\n",
      "Name: citoglipton, dtype: int64\n",
      "\n",
      "\n",
      "No        47383\n",
      "Steady    30849\n",
      "Down      12218\n",
      "Up        11316\n",
      "Name: insulin, dtype: int64\n",
      "\n",
      "\n",
      "No        101060\n",
      "Steady       692\n",
      "Up             8\n",
      "Down           6\n",
      "Name: glyburide-metformin, dtype: int64\n",
      "\n",
      "\n",
      "No        101753\n",
      "Steady        13\n",
      "Name: glipizide-metformin, dtype: int64\n",
      "\n",
      "\n",
      "No        101765\n",
      "Steady         1\n",
      "Name: glimepiride-pioglitazone, dtype: int64\n",
      "\n",
      "\n",
      "No        101764\n",
      "Steady         2\n",
      "Name: metformin-rosiglitazone, dtype: int64\n",
      "\n",
      "\n",
      "No        101765\n",
      "Steady         1\n",
      "Name: metformin-pioglitazone, dtype: int64\n",
      "\n",
      "\n",
      "No    54755\n",
      "Ch    47011\n",
      "Name: change, dtype: int64\n",
      "\n",
      "\n",
      "Yes    78363\n",
      "No     23403\n",
      "Name: diabetesMed, dtype: int64\n",
      "\n",
      "\n",
      "NO     54864\n",
      ">30    35545\n",
      "<30    11357\n",
      "Name: readmitted, dtype: int64\n",
      "\n",
      "\n"
     ]
    }
   ],
   "source": [
    "# Levels in rach attribute\n",
    "for i in diabetes_cat_attr:\n",
    "    print(diabetes_cat_attr[i].value_counts())\n",
    "    print('\\n')"
   ]
  },
  {
   "cell_type": "markdown",
   "metadata": {},
   "source": [
    "#### Plots for Categorical attributes"
   ]
  },
  {
   "cell_type": "code",
   "execution_count": 13,
   "metadata": {},
   "outputs": [
    {
     "name": "stderr",
     "output_type": "stream",
     "text": [
      "C:\\Users\\Lenovo\\Anaconda3\\lib\\site-packages\\matplotlib\\pyplot.py:524: RuntimeWarning: More than 20 figures have been opened. Figures created through the pyplot interface (`matplotlib.pyplot.figure`) are retained until explicitly closed and may consume too much memory. (To control this warning, see the rcParam `figure.max_open_warning`).\n",
      "  max_open_warning, RuntimeWarning)\n"
     ]
    },
    {
     "data": {
      "image/png": "[encoded data removed]",
      "text/plain": [
       "<matplotlib.figure.Figure at 0x23b3b82a1d0>"
      ]
     },
     "metadata": {},
     "output_type": "display_data"
    },
    {
     "data": {
      "image/png": "[encoded data removed]",
      "text/plain": [
       "<matplotlib.figure.Figure at 0x23b3b82a8d0>"
      ]
     },
     "metadata": {},
     "output_type": "display_data"
    },
    {
     "data": {
      "image/png": "[encoded data removed]",
      "text/plain": [
       "<matplotlib.figure.Figure at 0x23b3cbc85c0>"
      ]
     },
     "metadata": {},
     "output_type": "display_data"
    },
    {
     "data": {
      "image/png": "[encoded data removed]",
      "text/plain": [
       "<matplotlib.figure.Figure at 0x23b3b82a9e8>"
      ]
     },
     "metadata": {},
     "output_type": "display_data"
    },
    {
     "data": {
      "image/png": "[encoded data removed]",
      "text/plain": [
       "<matplotlib.figure.Figure at 0x23b3cc20c50>"
      ]
     },
     "metadata": {},
     "output_type": "display_data"
    },
    {
     "data": {
      "image/png": "[encoded data removed]",
      "text/plain": [
       "<matplotlib.figure.Figure at 0x23b3ce26978>"
      ]
     },
     "metadata": {},
     "output_type": "display_data"
    },
    {
     "data": {
      "image/png": "[encoded data removed]",
      "text/plain": [
       "<matplotlib.figure.Figure at 0x23b3ce77518>"
      ]
     },
     "metadata": {},
     "output_type": "display_data"
    },
    {
     "data": {
      "image/png": "[encoded data removed]",
      "text/plain": [
       "<matplotlib.figure.Figure at 0x23b3d011f98>"
      ]
     },
     "metadata": {},
     "output_type": "display_data"
    },
    {
     "data": {
      "image/png": "[encoded data removed]",
      "text/plain": [
       "<matplotlib.figure.Figure at 0x23b3d3197f0>"
      ]
     },
     "metadata": {},
     "output_type": "display_data"
    },
    {
     "data": {
      "image/png": "[encoded data removed]",
      "text/plain": [
       "<matplotlib.figure.Figure at 0x23b3d319160>"
      ]
     },
     "metadata": {},
     "output_type": "display_data"
    },
    {
     "data": {
      "image/png": "[encoded data removed]",
      "text/plain": [
       "<matplotlib.figure.Figure at 0x23b3d616208>"
      ]
     },
     "metadata": {},
     "output_type": "display_data"
    },
    {
     "data": {
      "image/png": "[encoded data removed]",
      "text/plain": [
       "<matplotlib.figure.Figure at 0x23b3d6e3cc0>"
      ]
     },
     "metadata": {},
     "output_type": "display_data"
    },
    {
     "data": {
      "image/png": "[encoded data removed]",
      "text/plain": [
       "<matplotlib.figure.Figure at 0x23b3d7bdba8>"
      ]
     },
     "metadata": {},
     "output_type": "display_data"
    },
    {
     "data": {
      "image/png": "[encoded data removed]",
      "text/plain": [
       "<matplotlib.figure.Figure at 0x23b3d795320>"
      ]
     },
     "metadata": {},
     "output_type": "display_data"
    },
    {
     "data": {
      "image/png": "[encoded data removed]",
      "text/plain": [
       "<matplotlib.figure.Figure at 0x23b4193efd0>"
      ]
     },
     "metadata": {},
     "output_type": "display_data"
    },
    {
     "data": {
      "image/png": "[encoded data removed]",
      "text/plain": [
       "<matplotlib.figure.Figure at 0x23b419becf8>"
      ]
     },
     "metadata": {},
     "output_type": "display_data"
    },
    {
     "data": {
      "image/png": "[encoded data removed]",
      "text/plain": [
       "<matplotlib.figure.Figure at 0x23b41a269b0>"
      ]
     },
     "metadata": {},
     "output_type": "display_data"
    },
    {
     "data": {
      "image/png": "[encoded data removed]",
      "text/plain": [
       "<matplotlib.figure.Figure at 0x23b41a26b38>"
      ]
     },
     "metadata": {},
     "output_type": "display_data"
    },
    {
     "data": {
      "image/png": "[encoded data removed]",
      "text/plain": [
       "<matplotlib.figure.Figure at 0x23b41ae6e80>"
      ]
     },
     "metadata": {},
     "output_type": "display_data"
    },
    {
     "data": {
      "image/png": "[encoded data removed]",
      "text/plain": [
       "<matplotlib.figure.Figure at 0x23b41b1e748>"
      ]
     },
     "metadata": {},
     "output_type": "display_data"
    },
    {
     "data": {
      "image/png": "[encoded data removed]",
      "text/plain": [
       "<matplotlib.figure.Figure at 0x23b41c256a0>"
      ]
     },
     "metadata": {},
     "output_type": "display_data"
    },
    {
     "data": {
      "image/png": "[encoded data removed]",
      "text/plain": [
       "<matplotlib.figure.Figure at 0x23b41bcd240>"
      ]
     },
     "metadata": {},
     "output_type": "display_data"
    },
    {
     "data": {
      "image/png": "[encoded data removed]",
      "text/plain": [
       "<matplotlib.figure.Figure at 0x23b41d48160>"
      ]
     },
     "metadata": {},
     "output_type": "display_data"
    },
    {
     "data": {
      "image/png": "[encoded data removed]",
      "text/plain": [
       "<matplotlib.figure.Figure at 0x23b41e269b0>"
      ]
     },
     "metadata": {},
     "output_type": "display_data"
    },
    {
     "data": {
      "image/png": "[encoded data removed]",
      "text/plain": [
       "<matplotlib.figure.Figure at 0x23b41ec1be0>"
      ]
     },
     "metadata": {},
     "output_type": "display_data"
    },
    {
     "data": {
      "image/png": "[encoded data removed]",
      "text/plain": [
       "<matplotlib.figure.Figure at 0x23b41ed40f0>"
      ]
     },
     "metadata": {},
     "output_type": "display_data"
    },
    {
     "data": {
      "image/png": "[encoded data removed]",
      "text/plain": [
       "<matplotlib.figure.Figure at 0x23b43ac0f28>"
      ]
     },
     "metadata": {},
     "output_type": "display_data"
    },
    {
     "data": {
      "image/png": "[encoded data removed]",
      "text/plain": [
       "<matplotlib.figure.Figure at 0x23b43ac04a8>"
      ]
     },
     "metadata": {},
     "output_type": "display_data"
    },
    {
     "data": {
      "image/png": "[encoded data removed]",
      "text/plain": [
       "<matplotlib.figure.Figure at 0x23b43b58e48>"
      ]
     },
     "metadata": {},
     "output_type": "display_data"
    },
    {
     "data": {
      "image/png": "[encoded data removed]",
      "text/plain": [
       "<matplotlib.figure.Figure at 0x23b43ae7a20>"
      ]
     },
     "metadata": {},
     "output_type": "display_data"
    },
    {
     "data": {
      "image/png": "[encoded data removed]",
      "text/plain": [
       "<matplotlib.figure.Figure at 0x23b43abca90>"
      ]
     },
     "metadata": {},
     "output_type": "display_data"
    },
    {
     "data": {
      "image/png": "[encoded data removed]",
      "text/plain": [
       "<matplotlib.figure.Figure at 0x23b43d51b70>"
      ]
     },
     "metadata": {},
     "output_type": "display_data"
    },
    {
     "data": {
      "image/png": "[encoded data removed]",
      "text/plain": [
       "<matplotlib.figure.Figure at 0x23b43dadc88>"
      ]
     },
     "metadata": {},
     "output_type": "display_data"
    },
    {
     "data": {
      "image/png": "[encoded data removed]",
      "text/plain": [
       "<matplotlib.figure.Figure at 0x23b43e08780>"
      ]
     },
     "metadata": {},
     "output_type": "display_data"
    },
    {
     "data": {
      "image/png": "[encoded data removed]",
      "text/plain": [
       "<matplotlib.figure.Figure at 0x23b43e97dd8>"
      ]
     },
     "metadata": {},
     "output_type": "display_data"
    },
    {
     "data": {
      "image/png": "[encoded data removed]",
      "text/plain": [
       "<matplotlib.figure.Figure at 0x23b43f4e160>"
      ]
     },
     "metadata": {},
     "output_type": "display_data"
    },
    {
     "data": {
      "image/png": "[encoded data removed]",
      "text/plain": [
       "<matplotlib.figure.Figure at 0x23b43f46128>"
      ]
     },
     "metadata": {},
     "output_type": "display_data"
    }
   ],
   "source": [
    "for i in diabetes_cat_attr:\n",
    "     pd.crosstab(index = diabetes_cat_attr[i],columns=\"count\").plot(kind=\"bar\")"
   ]
  },
  {
   "cell_type": "markdown",
   "metadata": {},
   "source": [
    "#### Numerical attributes"
   ]
  },
  {
   "cell_type": "code",
   "execution_count": 14,
   "metadata": {},
   "outputs": [
    {
     "name": "stderr",
     "output_type": "stream",
     "text": [
      "C:\\Users\\Lenovo\\Anaconda3\\lib\\site-packages\\ipykernel_launcher.py:2: SettingWithCopyWarning: \n",
      "A value is trying to be set on a copy of a slice from a DataFrame.\n",
      "Try using .loc[row_indexer,col_indexer] = value instead\n",
      "\n",
      "See the caveats in the documentation: http://pandas.pydata.org/pandas-docs/stable/indexing.html#indexing-view-versus-copy\n",
      "  \n"
     ]
    },
    {
     "data": {
      "text/plain": [
       "encounter_id          int32\n",
       "patient_nbr           int32\n",
       "time_in_hospital      int32\n",
       "num_lab_procedures    int32\n",
       "num_procedures        int32\n",
       "num_medications       int32\n",
       "number_outpatient     int32\n",
       "number_emergency      int32\n",
       "number_inpatient      int32\n",
       "number_diagnoses      int32\n",
       "dtype: object"
      ]
     },
     "execution_count": 14,
     "metadata": {},
     "output_type": "execute_result"
    }
   ],
   "source": [
    "for i in diabetes_num_attr :\n",
    "    diabetes_num_attr[i] = diabetes_num_attr[i].astype('int32')\n",
    "diabetes_num_attr.dtypes"
   ]
  },
  {
   "cell_type": "code",
   "execution_count": 15,
   "metadata": {},
   "outputs": [
    {
     "data": {
      "text/html": [
       "<div>\n",
       "<style>\n",
       "    .dataframe thead tr:only-child th {\n",
       "        text-align: right;\n",
       "    }\n",
       "\n",
       "    .dataframe thead th {\n",
       "        text-align: left;\n",
       "    }\n",
       "\n",
       "    .dataframe tbody tr th {\n",
       "        vertical-align: top;\n",
       "    }\n",
       "</style>\n",
       "<table border=\"1\" class=\"dataframe\">\n",
       "  <thead>\n",
       "    <tr style=\"text-align: right;\">\n",
       "      <th></th>\n",
       "      <th>encounter_id</th>\n",
       "      <th>patient_nbr</th>\n",
       "      <th>time_in_hospital</th>\n",
       "      <th>num_lab_procedures</th>\n",
       "      <th>num_procedures</th>\n",
       "      <th>num_medications</th>\n",
       "      <th>number_outpatient</th>\n",
       "      <th>number_emergency</th>\n",
       "      <th>number_inpatient</th>\n",
       "      <th>number_diagnoses</th>\n",
       "    </tr>\n",
       "  </thead>\n",
       "  <tbody>\n",
       "    <tr>\n",
       "      <th>encounter_id</th>\n",
       "      <td>1.000000</td>\n",
       "      <td>0.512028</td>\n",
       "      <td>-0.062221</td>\n",
       "      <td>-0.026062</td>\n",
       "      <td>-0.014225</td>\n",
       "      <td>0.076113</td>\n",
       "      <td>0.103756</td>\n",
       "      <td>0.082803</td>\n",
       "      <td>0.030962</td>\n",
       "      <td>0.265149</td>\n",
       "    </tr>\n",
       "    <tr>\n",
       "      <th>patient_nbr</th>\n",
       "      <td>0.512028</td>\n",
       "      <td>1.000000</td>\n",
       "      <td>-0.024092</td>\n",
       "      <td>0.015946</td>\n",
       "      <td>-0.015570</td>\n",
       "      <td>0.020665</td>\n",
       "      <td>0.103379</td>\n",
       "      <td>0.062352</td>\n",
       "      <td>0.012480</td>\n",
       "      <td>0.226847</td>\n",
       "    </tr>\n",
       "    <tr>\n",
       "      <th>time_in_hospital</th>\n",
       "      <td>-0.062221</td>\n",
       "      <td>-0.024092</td>\n",
       "      <td>1.000000</td>\n",
       "      <td>0.318450</td>\n",
       "      <td>0.191472</td>\n",
       "      <td>0.466135</td>\n",
       "      <td>-0.008916</td>\n",
       "      <td>-0.009681</td>\n",
       "      <td>0.073623</td>\n",
       "      <td>0.220186</td>\n",
       "    </tr>\n",
       "    <tr>\n",
       "      <th>num_lab_procedures</th>\n",
       "      <td>-0.026062</td>\n",
       "      <td>0.015946</td>\n",
       "      <td>0.318450</td>\n",
       "      <td>1.000000</td>\n",
       "      <td>0.058066</td>\n",
       "      <td>0.268161</td>\n",
       "      <td>-0.007602</td>\n",
       "      <td>-0.002279</td>\n",
       "      <td>0.039231</td>\n",
       "      <td>0.152773</td>\n",
       "    </tr>\n",
       "    <tr>\n",
       "      <th>num_procedures</th>\n",
       "      <td>-0.014225</td>\n",
       "      <td>-0.015570</td>\n",
       "      <td>0.191472</td>\n",
       "      <td>0.058066</td>\n",
       "      <td>1.000000</td>\n",
       "      <td>0.385767</td>\n",
       "      <td>-0.024819</td>\n",
       "      <td>-0.038179</td>\n",
       "      <td>-0.066236</td>\n",
       "      <td>0.073734</td>\n",
       "    </tr>\n",
       "    <tr>\n",
       "      <th>num_medications</th>\n",
       "      <td>0.076113</td>\n",
       "      <td>0.020665</td>\n",
       "      <td>0.466135</td>\n",
       "      <td>0.268161</td>\n",
       "      <td>0.385767</td>\n",
       "      <td>1.000000</td>\n",
       "      <td>0.045197</td>\n",
       "      <td>0.013180</td>\n",
       "      <td>0.064194</td>\n",
       "      <td>0.261526</td>\n",
       "    </tr>\n",
       "    <tr>\n",
       "      <th>number_outpatient</th>\n",
       "      <td>0.103756</td>\n",
       "      <td>0.103379</td>\n",
       "      <td>-0.008916</td>\n",
       "      <td>-0.007602</td>\n",
       "      <td>-0.024819</td>\n",
       "      <td>0.045197</td>\n",
       "      <td>1.000000</td>\n",
       "      <td>0.091459</td>\n",
       "      <td>0.107338</td>\n",
       "      <td>0.094152</td>\n",
       "    </tr>\n",
       "    <tr>\n",
       "      <th>number_emergency</th>\n",
       "      <td>0.082803</td>\n",
       "      <td>0.062352</td>\n",
       "      <td>-0.009681</td>\n",
       "      <td>-0.002279</td>\n",
       "      <td>-0.038179</td>\n",
       "      <td>0.013180</td>\n",
       "      <td>0.091459</td>\n",
       "      <td>1.000000</td>\n",
       "      <td>0.266559</td>\n",
       "      <td>0.055539</td>\n",
       "    </tr>\n",
       "    <tr>\n",
       "      <th>number_inpatient</th>\n",
       "      <td>0.030962</td>\n",
       "      <td>0.012480</td>\n",
       "      <td>0.073623</td>\n",
       "      <td>0.039231</td>\n",
       "      <td>-0.066236</td>\n",
       "      <td>0.064194</td>\n",
       "      <td>0.107338</td>\n",
       "      <td>0.266559</td>\n",
       "      <td>1.000000</td>\n",
       "      <td>0.104710</td>\n",
       "    </tr>\n",
       "    <tr>\n",
       "      <th>number_diagnoses</th>\n",
       "      <td>0.265149</td>\n",
       "      <td>0.226847</td>\n",
       "      <td>0.220186</td>\n",
       "      <td>0.152773</td>\n",
       "      <td>0.073734</td>\n",
       "      <td>0.261526</td>\n",
       "      <td>0.094152</td>\n",
       "      <td>0.055539</td>\n",
       "      <td>0.104710</td>\n",
       "      <td>1.000000</td>\n",
       "    </tr>\n",
       "  </tbody>\n",
       "</table>\n",
       "</div>"
      ],
      "text/plain": [
       "                    encounter_id  patient_nbr  time_in_hospital  \\\n",
       "encounter_id            1.000000     0.512028         -0.062221   \n",
       "patient_nbr             0.512028     1.000000         -0.024092   \n",
       "time_in_hospital       -0.062221    -0.024092          1.000000   \n",
       "num_lab_procedures     -0.026062     0.015946          0.318450   \n",
       "num_procedures         -0.014225    -0.015570          0.191472   \n",
       "num_medications         0.076113     0.020665          0.466135   \n",
       "number_outpatient       0.103756     0.103379         -0.008916   \n",
       "number_emergency        0.082803     0.062352         -0.009681   \n",
       "number_inpatient        0.030962     0.012480          0.073623   \n",
       "number_diagnoses        0.265149     0.226847          0.220186   \n",
       "\n",
       "                    num_lab_procedures  num_procedures  num_medications  \\\n",
       "encounter_id                 -0.026062       -0.014225         0.076113   \n",
       "patient_nbr                   0.015946       -0.015570         0.020665   \n",
       "time_in_hospital              0.318450        0.191472         0.466135   \n",
       "num_lab_procedures            1.000000        0.058066         0.268161   \n",
       "num_procedures                0.058066        1.000000         0.385767   \n",
       "num_medications               0.268161        0.385767         1.000000   \n",
       "number_outpatient            -0.007602       -0.024819         0.045197   \n",
       "number_emergency             -0.002279       -0.038179         0.013180   \n",
       "number_inpatient              0.039231       -0.066236         0.064194   \n",
       "number_diagnoses              0.152773        0.073734         0.261526   \n",
       "\n",
       "                    number_outpatient  number_emergency  number_inpatient  \\\n",
       "encounter_id                 0.103756          0.082803          0.030962   \n",
       "patient_nbr                  0.103379          0.062352          0.012480   \n",
       "time_in_hospital            -0.008916         -0.009681          0.073623   \n",
       "num_lab_procedures          -0.007602         -0.002279          0.039231   \n",
       "num_procedures              -0.024819         -0.038179         -0.066236   \n",
       "num_medications              0.045197          0.013180          0.064194   \n",
       "number_outpatient            1.000000          0.091459          0.107338   \n",
       "number_emergency             0.091459          1.000000          0.266559   \n",
       "number_inpatient             0.107338          0.266559          1.000000   \n",
       "number_diagnoses             0.094152          0.055539          0.104710   \n",
       "\n",
       "                    number_diagnoses  \n",
       "encounter_id                0.265149  \n",
       "patient_nbr                 0.226847  \n",
       "time_in_hospital            0.220186  \n",
       "num_lab_procedures          0.152773  \n",
       "num_procedures              0.073734  \n",
       "num_medications             0.261526  \n",
       "number_outpatient           0.094152  \n",
       "number_emergency            0.055539  \n",
       "number_inpatient            0.104710  \n",
       "number_diagnoses            1.000000  "
      ]
     },
     "execution_count": 15,
     "metadata": {},
     "output_type": "execute_result"
    }
   ],
   "source": [
    "# correlation matrix\n",
    "cor = diabetes_num_attr.corr()\n",
    "cor"
   ]
  },
  {
   "cell_type": "markdown",
   "metadata": {},
   "source": [
    "#### Correlation plot"
   ]
  },
  {
   "cell_type": "code",
   "execution_count": 16,
   "metadata": {},
   "outputs": [
    {
     "data": {
      "text/plain": [
       "<matplotlib.axes._subplots.AxesSubplot at 0x23b440582e8>"
      ]
     },
     "execution_count": 16,
     "metadata": {},
     "output_type": "execute_result"
    },
    {
     "data": {
      "image/png": "[encoded data removed]",
      "text/plain": [
       "<matplotlib.figure.Figure at 0x23b440589e8>"
      ]
     },
     "metadata": {},
     "output_type": "display_data"
    }
   ],
   "source": [
    "sns.heatmap(cor)"
   ]
  },
  {
   "cell_type": "markdown",
   "metadata": {},
   "source": [
    "#### Histograms for numerical attributes"
   ]
  },
  {
   "cell_type": "code",
   "execution_count": 17,
   "metadata": {
    "scrolled": false
   },
   "outputs": [
    {
     "data": {
      "image/png": "[encoded data removed]",
      "text/plain": [
       "<matplotlib.figure.Figure at 0x23b4444b780>"
      ]
     },
     "metadata": {},
     "output_type": "display_data"
    },
    {
     "data": {
      "image/png": "[encoded data removed]",
      "text/plain": [
       "<matplotlib.figure.Figure at 0x23b3cb0b780>"
      ]
     },
     "metadata": {},
     "output_type": "display_data"
    },
    {
     "data": {
      "image/png": "[encoded data removed]",
      "text/plain": [
       "<matplotlib.figure.Figure at 0x23b44108ef0>"
      ]
     },
     "metadata": {},
     "output_type": "display_data"
    },
    {
     "data": {
      "image/png": "[encoded data removed]",
      "text/plain": [
       "<matplotlib.figure.Figure at 0x23b440e7080>"
      ]
     },
     "metadata": {},
     "output_type": "display_data"
    },
    {
     "data": {
      "image/png": "[encoded data removed]",
      "text/plain": [
       "<matplotlib.figure.Figure at 0x23b41ba1b38>"
      ]
     },
     "metadata": {},
     "output_type": "display_data"
    },
    {
     "data": {
      "image/png": "[encoded data removed]",
      "text/plain": [
       "<matplotlib.figure.Figure at 0x23b41ba1c88>"
      ]
     },
     "metadata": {},
     "output_type": "display_data"
    },
    {
     "data": {
      "image/png": "[encoded data removed]",
      "text/plain": [
       "<matplotlib.figure.Figure at 0x23b43f70f60>"
      ]
     },
     "metadata": {},
     "output_type": "display_data"
    },
    {
     "data": {
      "image/png": "[encoded data removed]",
      "text/plain": [
       "<matplotlib.figure.Figure at 0x23b43f630f0>"
      ]
     },
     "metadata": {},
     "output_type": "display_data"
    },
    {
     "data": {
      "image/png": "[encoded data removed]",
      "text/plain": [
       "<matplotlib.figure.Figure at 0x23b43e89470>"
      ]
     },
     "metadata": {},
     "output_type": "display_data"
    },
    {
     "data": {
      "image/png": "[encoded data removed]",
      "text/plain": [
       "<matplotlib.figure.Figure at 0x23b43d63e80>"
      ]
     },
     "metadata": {},
     "output_type": "display_data"
    }
   ],
   "source": [
    "for i in diabetes_num_attr:\n",
    "    diabetes_num_attr.hist(i)"
   ]
  },
  {
   "cell_type": "markdown",
   "metadata": {},
   "source": [
    "#### Feature Engineering"
   ]
  },
  {
   "cell_type": "code",
   "execution_count": 18,
   "metadata": {},
   "outputs": [
    {
     "name": "stderr",
     "output_type": "stream",
     "text": [
      "C:\\Users\\Lenovo\\Anaconda3\\lib\\site-packages\\ipykernel_launcher.py:1: SettingWithCopyWarning: \n",
      "A value is trying to be set on a copy of a slice from a DataFrame.\n",
      "Try using .loc[row_indexer,col_indexer] = value instead\n",
      "\n",
      "See the caveats in the documentation: http://pandas.pydata.org/pandas-docs/stable/indexing.html#indexing-view-versus-copy\n",
      "  \"\"\"Entry point for launching an IPython kernel.\n"
     ]
    }
   ],
   "source": [
    "diabetes_num_attr['Total_Procedures'] = diabetes_num_attr.num_lab_procedures + diabetes_num_attr.num_procedures"
   ]
  },
  {
   "cell_type": "code",
   "execution_count": 19,
   "metadata": {
    "collapsed": true
   },
   "outputs": [],
   "source": [
    "# Removing the Features which has Unique variables \n",
    "diabetes_num_attr = diabetes_num_attr.drop(['num_lab_procedures','num_procedures',\n",
    "                                            'encounter_id','patient_nbr'],1)"
   ]
  },
  {
   "cell_type": "markdown",
   "metadata": {},
   "source": [
    "#### Standardization"
   ]
  },
  {
   "cell_type": "code",
   "execution_count": 20,
   "metadata": {
    "collapsed": true
   },
   "outputs": [],
   "source": [
    "from sklearn.preprocessing import StandardScaler"
   ]
  },
  {
   "cell_type": "code",
   "execution_count": 21,
   "metadata": {
    "collapsed": true
   },
   "outputs": [],
   "source": [
    "scaler = StandardScaler().fit(diabetes_num_attr)"
   ]
  },
  {
   "cell_type": "code",
   "execution_count": 22,
   "metadata": {
    "scrolled": true
   },
   "outputs": [
    {
     "data": {
      "text/html": [
       "<div>\n",
       "<style>\n",
       "    .dataframe thead tr:only-child th {\n",
       "        text-align: right;\n",
       "    }\n",
       "\n",
       "    .dataframe thead th {\n",
       "        text-align: left;\n",
       "    }\n",
       "\n",
       "    .dataframe tbody tr th {\n",
       "        vertical-align: top;\n",
       "    }\n",
       "</style>\n",
       "<table border=\"1\" class=\"dataframe\">\n",
       "  <thead>\n",
       "    <tr style=\"text-align: right;\">\n",
       "      <th></th>\n",
       "      <th>time_in_hospital</th>\n",
       "      <th>num_medications</th>\n",
       "      <th>number_outpatient</th>\n",
       "      <th>number_emergency</th>\n",
       "      <th>number_inpatient</th>\n",
       "      <th>number_diagnoses</th>\n",
       "      <th>Total_Procedures</th>\n",
       "    </tr>\n",
       "  </thead>\n",
       "  <tbody>\n",
       "    <tr>\n",
       "      <th>0</th>\n",
       "      <td>-1.137649</td>\n",
       "      <td>-1.848268</td>\n",
       "      <td>-0.291461</td>\n",
       "      <td>-0.212620</td>\n",
       "      <td>-0.503276</td>\n",
       "      <td>-3.321596</td>\n",
       "      <td>-0.173097</td>\n",
       "    </tr>\n",
       "    <tr>\n",
       "      <th>1</th>\n",
       "      <td>-0.467653</td>\n",
       "      <td>0.243390</td>\n",
       "      <td>-0.291461</td>\n",
       "      <td>-0.212620</td>\n",
       "      <td>-0.503276</td>\n",
       "      <td>0.815784</td>\n",
       "      <td>0.733864</td>\n",
       "    </tr>\n",
       "    <tr>\n",
       "      <th>2</th>\n",
       "      <td>-0.802651</td>\n",
       "      <td>-0.371804</td>\n",
       "      <td>1.286748</td>\n",
       "      <td>-0.212620</td>\n",
       "      <td>0.288579</td>\n",
       "      <td>-0.735733</td>\n",
       "      <td>-1.432764</td>\n",
       "    </tr>\n",
       "    <tr>\n",
       "      <th>3</th>\n",
       "      <td>-0.802651</td>\n",
       "      <td>-0.002688</td>\n",
       "      <td>-0.291461</td>\n",
       "      <td>-0.212620</td>\n",
       "      <td>-0.503276</td>\n",
       "      <td>-0.218561</td>\n",
       "      <td>0.028450</td>\n",
       "    </tr>\n",
       "    <tr>\n",
       "      <th>4</th>\n",
       "      <td>-1.137649</td>\n",
       "      <td>-0.986997</td>\n",
       "      <td>-0.291461</td>\n",
       "      <td>-0.212620</td>\n",
       "      <td>-0.503276</td>\n",
       "      <td>-1.252906</td>\n",
       "      <td>0.330770</td>\n",
       "    </tr>\n",
       "    <tr>\n",
       "      <th>5</th>\n",
       "      <td>-0.467653</td>\n",
       "      <td>-0.002688</td>\n",
       "      <td>-0.291461</td>\n",
       "      <td>-0.212620</td>\n",
       "      <td>-0.503276</td>\n",
       "      <td>0.815784</td>\n",
       "      <td>-0.374644</td>\n",
       "    </tr>\n",
       "    <tr>\n",
       "      <th>6</th>\n",
       "      <td>-0.132655</td>\n",
       "      <td>0.612506</td>\n",
       "      <td>-0.291461</td>\n",
       "      <td>-0.212620</td>\n",
       "      <td>-0.503276</td>\n",
       "      <td>-0.218561</td>\n",
       "      <td>1.338504</td>\n",
       "    </tr>\n",
       "    <tr>\n",
       "      <th>7</th>\n",
       "      <td>0.202343</td>\n",
       "      <td>-0.494842</td>\n",
       "      <td>-0.291461</td>\n",
       "      <td>-0.212620</td>\n",
       "      <td>-0.503276</td>\n",
       "      <td>0.298612</td>\n",
       "      <td>1.439277</td>\n",
       "    </tr>\n",
       "    <tr>\n",
       "      <th>8</th>\n",
       "      <td>2.882327</td>\n",
       "      <td>1.473776</td>\n",
       "      <td>-0.291461</td>\n",
       "      <td>-0.212620</td>\n",
       "      <td>-0.503276</td>\n",
       "      <td>0.298612</td>\n",
       "      <td>1.288117</td>\n",
       "    </tr>\n",
       "    <tr>\n",
       "      <th>9</th>\n",
       "      <td>2.547329</td>\n",
       "      <td>0.243390</td>\n",
       "      <td>-0.291461</td>\n",
       "      <td>-0.212620</td>\n",
       "      <td>-0.503276</td>\n",
       "      <td>0.298612</td>\n",
       "      <td>-0.425031</td>\n",
       "    </tr>\n",
       "    <tr>\n",
       "      <th>10</th>\n",
       "      <td>1.542335</td>\n",
       "      <td>0.120351</td>\n",
       "      <td>-0.291461</td>\n",
       "      <td>-0.212620</td>\n",
       "      <td>-0.503276</td>\n",
       "      <td>0.815784</td>\n",
       "      <td>0.229997</td>\n",
       "    </tr>\n",
       "    <tr>\n",
       "      <th>11</th>\n",
       "      <td>0.872339</td>\n",
       "      <td>-0.617881</td>\n",
       "      <td>-0.291461</td>\n",
       "      <td>-0.212620</td>\n",
       "      <td>-0.503276</td>\n",
       "      <td>-0.218561</td>\n",
       "      <td>0.885024</td>\n",
       "    </tr>\n",
       "    <tr>\n",
       "      <th>12</th>\n",
       "      <td>0.872339</td>\n",
       "      <td>-0.125726</td>\n",
       "      <td>-0.291461</td>\n",
       "      <td>0.862108</td>\n",
       "      <td>-0.503276</td>\n",
       "      <td>0.298612</td>\n",
       "      <td>0.784250</td>\n",
       "    </tr>\n",
       "    <tr>\n",
       "      <th>13</th>\n",
       "      <td>1.877333</td>\n",
       "      <td>1.842892</td>\n",
       "      <td>-0.291461</td>\n",
       "      <td>-0.212620</td>\n",
       "      <td>-0.503276</td>\n",
       "      <td>0.298612</td>\n",
       "      <td>0.582703</td>\n",
       "    </tr>\n",
       "    <tr>\n",
       "      <th>14</th>\n",
       "      <td>-1.137649</td>\n",
       "      <td>-1.725229</td>\n",
       "      <td>-0.291461</td>\n",
       "      <td>-0.212620</td>\n",
       "      <td>-0.503276</td>\n",
       "      <td>0.298612</td>\n",
       "      <td>0.481930</td>\n",
       "    </tr>\n",
       "    <tr>\n",
       "      <th>15</th>\n",
       "      <td>2.547329</td>\n",
       "      <td>-0.371804</td>\n",
       "      <td>-0.291461</td>\n",
       "      <td>-0.212620</td>\n",
       "      <td>-0.503276</td>\n",
       "      <td>0.815784</td>\n",
       "      <td>1.791984</td>\n",
       "    </tr>\n",
       "    <tr>\n",
       "      <th>16</th>\n",
       "      <td>-0.132655</td>\n",
       "      <td>0.120351</td>\n",
       "      <td>-0.291461</td>\n",
       "      <td>-0.212620</td>\n",
       "      <td>-0.503276</td>\n",
       "      <td>0.298612</td>\n",
       "      <td>0.229997</td>\n",
       "    </tr>\n",
       "    <tr>\n",
       "      <th>17</th>\n",
       "      <td>-0.467653</td>\n",
       "      <td>-0.617881</td>\n",
       "      <td>-0.291461</td>\n",
       "      <td>-0.212620</td>\n",
       "      <td>-0.503276</td>\n",
       "      <td>-2.287251</td>\n",
       "      <td>-0.777737</td>\n",
       "    </tr>\n",
       "    <tr>\n",
       "      <th>18</th>\n",
       "      <td>0.202343</td>\n",
       "      <td>0.858583</td>\n",
       "      <td>-0.291461</td>\n",
       "      <td>-0.212620</td>\n",
       "      <td>-0.503276</td>\n",
       "      <td>0.815784</td>\n",
       "      <td>-0.223484</td>\n",
       "    </tr>\n",
       "    <tr>\n",
       "      <th>19</th>\n",
       "      <td>0.537341</td>\n",
       "      <td>0.858583</td>\n",
       "      <td>-0.291461</td>\n",
       "      <td>-0.212620</td>\n",
       "      <td>-0.503276</td>\n",
       "      <td>0.298612</td>\n",
       "      <td>-0.021937</td>\n",
       "    </tr>\n",
       "    <tr>\n",
       "      <th>20</th>\n",
       "      <td>-0.802651</td>\n",
       "      <td>0.366428</td>\n",
       "      <td>-0.291461</td>\n",
       "      <td>-0.212620</td>\n",
       "      <td>-0.503276</td>\n",
       "      <td>-0.218561</td>\n",
       "      <td>1.136957</td>\n",
       "    </tr>\n",
       "    <tr>\n",
       "      <th>21</th>\n",
       "      <td>-0.802651</td>\n",
       "      <td>-0.617881</td>\n",
       "      <td>-0.291461</td>\n",
       "      <td>-0.212620</td>\n",
       "      <td>-0.503276</td>\n",
       "      <td>-0.735733</td>\n",
       "      <td>-0.324257</td>\n",
       "    </tr>\n",
       "    <tr>\n",
       "      <th>22</th>\n",
       "      <td>-0.802651</td>\n",
       "      <td>-0.494842</td>\n",
       "      <td>-0.291461</td>\n",
       "      <td>-0.212620</td>\n",
       "      <td>-0.503276</td>\n",
       "      <td>0.298612</td>\n",
       "      <td>0.129223</td>\n",
       "    </tr>\n",
       "    <tr>\n",
       "      <th>23</th>\n",
       "      <td>2.212331</td>\n",
       "      <td>0.366428</td>\n",
       "      <td>-0.291461</td>\n",
       "      <td>-0.212620</td>\n",
       "      <td>-0.503276</td>\n",
       "      <td>0.298612</td>\n",
       "      <td>-0.021937</td>\n",
       "    </tr>\n",
       "    <tr>\n",
       "      <th>24</th>\n",
       "      <td>-0.467653</td>\n",
       "      <td>0.243390</td>\n",
       "      <td>-0.291461</td>\n",
       "      <td>-0.212620</td>\n",
       "      <td>-0.503276</td>\n",
       "      <td>-0.735733</td>\n",
       "      <td>-1.080058</td>\n",
       "    </tr>\n",
       "    <tr>\n",
       "      <th>25</th>\n",
       "      <td>-1.137649</td>\n",
       "      <td>-1.110036</td>\n",
       "      <td>-0.291461</td>\n",
       "      <td>-0.212620</td>\n",
       "      <td>-0.503276</td>\n",
       "      <td>-2.287251</td>\n",
       "      <td>-0.576191</td>\n",
       "    </tr>\n",
       "    <tr>\n",
       "      <th>26</th>\n",
       "      <td>0.537341</td>\n",
       "      <td>0.243390</td>\n",
       "      <td>-0.291461</td>\n",
       "      <td>-0.212620</td>\n",
       "      <td>-0.503276</td>\n",
       "      <td>-0.218561</td>\n",
       "      <td>1.136957</td>\n",
       "    </tr>\n",
       "    <tr>\n",
       "      <th>27</th>\n",
       "      <td>-0.802651</td>\n",
       "      <td>-0.617881</td>\n",
       "      <td>-0.291461</td>\n",
       "      <td>-0.212620</td>\n",
       "      <td>-0.503276</td>\n",
       "      <td>-2.287251</td>\n",
       "      <td>-0.878511</td>\n",
       "    </tr>\n",
       "    <tr>\n",
       "      <th>28</th>\n",
       "      <td>1.877333</td>\n",
       "      <td>0.489467</td>\n",
       "      <td>-0.291461</td>\n",
       "      <td>-0.212620</td>\n",
       "      <td>-0.503276</td>\n",
       "      <td>-0.735733</td>\n",
       "      <td>0.431543</td>\n",
       "    </tr>\n",
       "    <tr>\n",
       "      <th>29</th>\n",
       "      <td>0.202343</td>\n",
       "      <td>-0.248765</td>\n",
       "      <td>-0.291461</td>\n",
       "      <td>-0.212620</td>\n",
       "      <td>-0.503276</td>\n",
       "      <td>0.298612</td>\n",
       "      <td>0.381157</td>\n",
       "    </tr>\n",
       "    <tr>\n",
       "      <th>...</th>\n",
       "      <td>...</td>\n",
       "      <td>...</td>\n",
       "      <td>...</td>\n",
       "      <td>...</td>\n",
       "      <td>...</td>\n",
       "      <td>...</td>\n",
       "      <td>...</td>\n",
       "    </tr>\n",
       "    <tr>\n",
       "      <th>101736</th>\n",
       "      <td>1.207337</td>\n",
       "      <td>0.489467</td>\n",
       "      <td>0.497643</td>\n",
       "      <td>-0.212620</td>\n",
       "      <td>0.288579</td>\n",
       "      <td>0.815784</td>\n",
       "      <td>0.532317</td>\n",
       "    </tr>\n",
       "    <tr>\n",
       "      <th>101737</th>\n",
       "      <td>-0.132655</td>\n",
       "      <td>1.104660</td>\n",
       "      <td>-0.291461</td>\n",
       "      <td>-0.212620</td>\n",
       "      <td>-0.503276</td>\n",
       "      <td>0.815784</td>\n",
       "      <td>0.481930</td>\n",
       "    </tr>\n",
       "    <tr>\n",
       "      <th>101738</th>\n",
       "      <td>-1.137649</td>\n",
       "      <td>-0.740920</td>\n",
       "      <td>-0.291461</td>\n",
       "      <td>-0.212620</td>\n",
       "      <td>1.080434</td>\n",
       "      <td>-0.218561</td>\n",
       "      <td>-0.374644</td>\n",
       "    </tr>\n",
       "    <tr>\n",
       "      <th>101739</th>\n",
       "      <td>-1.137649</td>\n",
       "      <td>-0.248765</td>\n",
       "      <td>1.286748</td>\n",
       "      <td>-0.212620</td>\n",
       "      <td>1.080434</td>\n",
       "      <td>0.815784</td>\n",
       "      <td>-0.324257</td>\n",
       "    </tr>\n",
       "    <tr>\n",
       "      <th>101740</th>\n",
       "      <td>-1.137649</td>\n",
       "      <td>-0.986997</td>\n",
       "      <td>-0.291461</td>\n",
       "      <td>-0.212620</td>\n",
       "      <td>-0.503276</td>\n",
       "      <td>-1.770078</td>\n",
       "      <td>-1.936631</td>\n",
       "    </tr>\n",
       "    <tr>\n",
       "      <th>101741</th>\n",
       "      <td>-0.132655</td>\n",
       "      <td>-0.986997</td>\n",
       "      <td>-0.291461</td>\n",
       "      <td>-0.212620</td>\n",
       "      <td>0.288579</td>\n",
       "      <td>0.815784</td>\n",
       "      <td>-1.130444</td>\n",
       "    </tr>\n",
       "    <tr>\n",
       "      <th>101742</th>\n",
       "      <td>-0.132655</td>\n",
       "      <td>-0.740920</td>\n",
       "      <td>-0.291461</td>\n",
       "      <td>-0.212620</td>\n",
       "      <td>-0.503276</td>\n",
       "      <td>0.815784</td>\n",
       "      <td>-0.072324</td>\n",
       "    </tr>\n",
       "    <tr>\n",
       "      <th>101743</th>\n",
       "      <td>-0.467653</td>\n",
       "      <td>1.227699</td>\n",
       "      <td>0.497643</td>\n",
       "      <td>-0.212620</td>\n",
       "      <td>0.288579</td>\n",
       "      <td>0.815784</td>\n",
       "      <td>0.028450</td>\n",
       "    </tr>\n",
       "    <tr>\n",
       "      <th>101744</th>\n",
       "      <td>-1.137649</td>\n",
       "      <td>-0.494842</td>\n",
       "      <td>-0.291461</td>\n",
       "      <td>-0.212620</td>\n",
       "      <td>-0.503276</td>\n",
       "      <td>0.815784</td>\n",
       "      <td>0.229997</td>\n",
       "    </tr>\n",
       "    <tr>\n",
       "      <th>101745</th>\n",
       "      <td>-0.467653</td>\n",
       "      <td>-1.110036</td>\n",
       "      <td>-0.291461</td>\n",
       "      <td>0.862108</td>\n",
       "      <td>-0.503276</td>\n",
       "      <td>-2.287251</td>\n",
       "      <td>0.633090</td>\n",
       "    </tr>\n",
       "    <tr>\n",
       "      <th>101746</th>\n",
       "      <td>-0.132655</td>\n",
       "      <td>-1.110036</td>\n",
       "      <td>0.497643</td>\n",
       "      <td>-0.212620</td>\n",
       "      <td>-0.503276</td>\n",
       "      <td>-1.252906</td>\n",
       "      <td>-2.138178</td>\n",
       "    </tr>\n",
       "    <tr>\n",
       "      <th>101747</th>\n",
       "      <td>1.207337</td>\n",
       "      <td>0.366428</td>\n",
       "      <td>-0.291461</td>\n",
       "      <td>-0.212620</td>\n",
       "      <td>-0.503276</td>\n",
       "      <td>0.815784</td>\n",
       "      <td>0.633090</td>\n",
       "    </tr>\n",
       "    <tr>\n",
       "      <th>101748</th>\n",
       "      <td>3.217324</td>\n",
       "      <td>-0.002688</td>\n",
       "      <td>-0.291461</td>\n",
       "      <td>-0.212620</td>\n",
       "      <td>-0.503276</td>\n",
       "      <td>-1.252906</td>\n",
       "      <td>1.237731</td>\n",
       "    </tr>\n",
       "    <tr>\n",
       "      <th>101749</th>\n",
       "      <td>-0.467653</td>\n",
       "      <td>1.596815</td>\n",
       "      <td>-0.291461</td>\n",
       "      <td>0.862108</td>\n",
       "      <td>-0.503276</td>\n",
       "      <td>0.815784</td>\n",
       "      <td>-0.828124</td>\n",
       "    </tr>\n",
       "    <tr>\n",
       "      <th>101750</th>\n",
       "      <td>-0.467653</td>\n",
       "      <td>0.981622</td>\n",
       "      <td>-0.291461</td>\n",
       "      <td>-0.212620</td>\n",
       "      <td>-0.503276</td>\n",
       "      <td>0.815784</td>\n",
       "      <td>-0.576191</td>\n",
       "    </tr>\n",
       "    <tr>\n",
       "      <th>101751</th>\n",
       "      <td>2.882327</td>\n",
       "      <td>6.026207</td>\n",
       "      <td>-0.291461</td>\n",
       "      <td>-0.212620</td>\n",
       "      <td>-0.503276</td>\n",
       "      <td>4.435992</td>\n",
       "      <td>1.943144</td>\n",
       "    </tr>\n",
       "    <tr>\n",
       "      <th>101752</th>\n",
       "      <td>-0.467653</td>\n",
       "      <td>-1.356113</td>\n",
       "      <td>-0.291461</td>\n",
       "      <td>-0.212620</td>\n",
       "      <td>-0.503276</td>\n",
       "      <td>0.298612</td>\n",
       "      <td>-1.533538</td>\n",
       "    </tr>\n",
       "    <tr>\n",
       "      <th>101753</th>\n",
       "      <td>2.882327</td>\n",
       "      <td>-0.371804</td>\n",
       "      <td>-0.291461</td>\n",
       "      <td>-0.212620</td>\n",
       "      <td>-0.503276</td>\n",
       "      <td>0.815784</td>\n",
       "      <td>0.431543</td>\n",
       "    </tr>\n",
       "    <tr>\n",
       "      <th>101754</th>\n",
       "      <td>1.542335</td>\n",
       "      <td>2.088970</td>\n",
       "      <td>-0.291461</td>\n",
       "      <td>-0.212620</td>\n",
       "      <td>-0.503276</td>\n",
       "      <td>0.815784</td>\n",
       "      <td>0.381157</td>\n",
       "    </tr>\n",
       "    <tr>\n",
       "      <th>101755</th>\n",
       "      <td>3.217324</td>\n",
       "      <td>1.227699</td>\n",
       "      <td>-0.291461</td>\n",
       "      <td>0.862108</td>\n",
       "      <td>-0.503276</td>\n",
       "      <td>0.815784</td>\n",
       "      <td>1.741598</td>\n",
       "    </tr>\n",
       "    <tr>\n",
       "      <th>101756</th>\n",
       "      <td>-0.802651</td>\n",
       "      <td>0.120351</td>\n",
       "      <td>0.497643</td>\n",
       "      <td>0.862108</td>\n",
       "      <td>0.288579</td>\n",
       "      <td>0.815784</td>\n",
       "      <td>0.381157</td>\n",
       "    </tr>\n",
       "    <tr>\n",
       "      <th>101757</th>\n",
       "      <td>0.202343</td>\n",
       "      <td>-0.002688</td>\n",
       "      <td>-0.291461</td>\n",
       "      <td>-0.212620</td>\n",
       "      <td>0.288579</td>\n",
       "      <td>0.815784</td>\n",
       "      <td>-1.130444</td>\n",
       "    </tr>\n",
       "    <tr>\n",
       "      <th>101758</th>\n",
       "      <td>0.202343</td>\n",
       "      <td>0.735544</td>\n",
       "      <td>-0.291461</td>\n",
       "      <td>0.862108</td>\n",
       "      <td>-0.503276</td>\n",
       "      <td>0.815784</td>\n",
       "      <td>1.640824</td>\n",
       "    </tr>\n",
       "    <tr>\n",
       "      <th>101759</th>\n",
       "      <td>-1.137649</td>\n",
       "      <td>-0.125726</td>\n",
       "      <td>2.075853</td>\n",
       "      <td>-0.212620</td>\n",
       "      <td>-0.503276</td>\n",
       "      <td>-0.218561</td>\n",
       "      <td>-2.188565</td>\n",
       "    </tr>\n",
       "    <tr>\n",
       "      <th>101760</th>\n",
       "      <td>0.537341</td>\n",
       "      <td>1.104660</td>\n",
       "      <td>2.075853</td>\n",
       "      <td>0.862108</td>\n",
       "      <td>1.080434</td>\n",
       "      <td>0.815784</td>\n",
       "      <td>0.078836</td>\n",
       "    </tr>\n",
       "    <tr>\n",
       "      <th>101761</th>\n",
       "      <td>-0.467653</td>\n",
       "      <td>-0.002688</td>\n",
       "      <td>-0.291461</td>\n",
       "      <td>-0.212620</td>\n",
       "      <td>-0.503276</td>\n",
       "      <td>0.815784</td>\n",
       "      <td>0.330770</td>\n",
       "    </tr>\n",
       "    <tr>\n",
       "      <th>101762</th>\n",
       "      <td>0.202343</td>\n",
       "      <td>0.243390</td>\n",
       "      <td>-0.291461</td>\n",
       "      <td>-0.212620</td>\n",
       "      <td>0.288579</td>\n",
       "      <td>0.815784</td>\n",
       "      <td>-0.425031</td>\n",
       "    </tr>\n",
       "    <tr>\n",
       "      <th>101763</th>\n",
       "      <td>-1.137649</td>\n",
       "      <td>-0.863958</td>\n",
       "      <td>0.497643</td>\n",
       "      <td>-0.212620</td>\n",
       "      <td>-0.503276</td>\n",
       "      <td>2.884475</td>\n",
       "      <td>0.431543</td>\n",
       "    </tr>\n",
       "    <tr>\n",
       "      <th>101764</th>\n",
       "      <td>1.877333</td>\n",
       "      <td>0.612506</td>\n",
       "      <td>-0.291461</td>\n",
       "      <td>-0.212620</td>\n",
       "      <td>0.288579</td>\n",
       "      <td>0.815784</td>\n",
       "      <td>0.129223</td>\n",
       "    </tr>\n",
       "    <tr>\n",
       "      <th>101765</th>\n",
       "      <td>0.537341</td>\n",
       "      <td>-1.602190</td>\n",
       "      <td>-0.291461</td>\n",
       "      <td>-0.212620</td>\n",
       "      <td>-0.503276</td>\n",
       "      <td>0.815784</td>\n",
       "      <td>-1.432764</td>\n",
       "    </tr>\n",
       "  </tbody>\n",
       "</table>\n",
       "<p>101766 rows × 7 columns</p>\n",
       "</div>"
      ],
      "text/plain": [
       "        time_in_hospital  num_medications  number_outpatient  \\\n",
       "0              -1.137649        -1.848268          -0.291461   \n",
       "1              -0.467653         0.243390          -0.291461   \n",
       "2              -0.802651        -0.371804           1.286748   \n",
       "3              -0.802651        -0.002688          -0.291461   \n",
       "4              -1.137649        -0.986997          -0.291461   \n",
       "5              -0.467653        -0.002688          -0.291461   \n",
       "6              -0.132655         0.612506          -0.291461   \n",
       "7               0.202343        -0.494842          -0.291461   \n",
       "8               2.882327         1.473776          -0.291461   \n",
       "9               2.547329         0.243390          -0.291461   \n",
       "10              1.542335         0.120351          -0.291461   \n",
       "11              0.872339        -0.617881          -0.291461   \n",
       "12              0.872339        -0.125726          -0.291461   \n",
       "13              1.877333         1.842892          -0.291461   \n",
       "14             -1.137649        -1.725229          -0.291461   \n",
       "15              2.547329        -0.371804          -0.291461   \n",
       "16             -0.132655         0.120351          -0.291461   \n",
       "17             -0.467653        -0.617881          -0.291461   \n",
       "18              0.202343         0.858583          -0.291461   \n",
       "19              0.537341         0.858583          -0.291461   \n",
       "20             -0.802651         0.366428          -0.291461   \n",
       "21             -0.802651        -0.617881          -0.291461   \n",
       "22             -0.802651        -0.494842          -0.291461   \n",
       "23              2.212331         0.366428          -0.291461   \n",
       "24             -0.467653         0.243390          -0.291461   \n",
       "25             -1.137649        -1.110036          -0.291461   \n",
       "26              0.537341         0.243390          -0.291461   \n",
       "27             -0.802651        -0.617881          -0.291461   \n",
       "28              1.877333         0.489467          -0.291461   \n",
       "29              0.202343        -0.248765          -0.291461   \n",
       "...                  ...              ...                ...   \n",
       "101736          1.207337         0.489467           0.497643   \n",
       "101737         -0.132655         1.104660          -0.291461   \n",
       "101738         -1.137649        -0.740920          -0.291461   \n",
       "101739         -1.137649        -0.248765           1.286748   \n",
       "101740         -1.137649        -0.986997          -0.291461   \n",
       "101741         -0.132655        -0.986997          -0.291461   \n",
       "101742         -0.132655        -0.740920          -0.291461   \n",
       "101743         -0.467653         1.227699           0.497643   \n",
       "101744         -1.137649        -0.494842          -0.291461   \n",
       "101745         -0.467653        -1.110036          -0.291461   \n",
       "101746         -0.132655        -1.110036           0.497643   \n",
       "101747          1.207337         0.366428          -0.291461   \n",
       "101748          3.217324        -0.002688          -0.291461   \n",
       "101749         -0.467653         1.596815          -0.291461   \n",
       "101750         -0.467653         0.981622          -0.291461   \n",
       "101751          2.882327         6.026207          -0.291461   \n",
       "101752         -0.467653        -1.356113          -0.291461   \n",
       "101753          2.882327        -0.371804          -0.291461   \n",
       "101754          1.542335         2.088970          -0.291461   \n",
       "101755          3.217324         1.227699          -0.291461   \n",
       "101756         -0.802651         0.120351           0.497643   \n",
       "101757          0.202343        -0.002688          -0.291461   \n",
       "101758          0.202343         0.735544          -0.291461   \n",
       "101759         -1.137649        -0.125726           2.075853   \n",
       "101760          0.537341         1.104660           2.075853   \n",
       "101761         -0.467653        -0.002688          -0.291461   \n",
       "101762          0.202343         0.243390          -0.291461   \n",
       "101763         -1.137649        -0.863958           0.497643   \n",
       "101764          1.877333         0.612506          -0.291461   \n",
       "101765          0.537341        -1.602190          -0.291461   \n",
       "\n",
       "        number_emergency  number_inpatient  number_diagnoses  Total_Procedures  \n",
       "0              -0.212620         -0.503276         -3.321596         -0.173097  \n",
       "1              -0.212620         -0.503276          0.815784          0.733864  \n",
       "2              -0.212620          0.288579         -0.735733         -1.432764  \n",
       "3              -0.212620         -0.503276         -0.218561          0.028450  \n",
       "4              -0.212620         -0.503276         -1.252906          0.330770  \n",
       "5              -0.212620         -0.503276          0.815784         -0.374644  \n",
       "6              -0.212620         -0.503276         -0.218561          1.338504  \n",
       "7              -0.212620         -0.503276          0.298612          1.439277  \n",
       "8              -0.212620         -0.503276          0.298612          1.288117  \n",
       "9              -0.212620         -0.503276          0.298612         -0.425031  \n",
       "10             -0.212620         -0.503276          0.815784          0.229997  \n",
       "11             -0.212620         -0.503276         -0.218561          0.885024  \n",
       "12              0.862108         -0.503276          0.298612          0.784250  \n",
       "13             -0.212620         -0.503276          0.298612          0.582703  \n",
       "14             -0.212620         -0.503276          0.298612          0.481930  \n",
       "15             -0.212620         -0.503276          0.815784          1.791984  \n",
       "16             -0.212620         -0.503276          0.298612          0.229997  \n",
       "17             -0.212620         -0.503276         -2.287251         -0.777737  \n",
       "18             -0.212620         -0.503276          0.815784         -0.223484  \n",
       "19             -0.212620         -0.503276          0.298612         -0.021937  \n",
       "20             -0.212620         -0.503276         -0.218561          1.136957  \n",
       "21             -0.212620         -0.503276         -0.735733         -0.324257  \n",
       "22             -0.212620         -0.503276          0.298612          0.129223  \n",
       "23             -0.212620         -0.503276          0.298612         -0.021937  \n",
       "24             -0.212620         -0.503276         -0.735733         -1.080058  \n",
       "25             -0.212620         -0.503276         -2.287251         -0.576191  \n",
       "26             -0.212620         -0.503276         -0.218561          1.136957  \n",
       "27             -0.212620         -0.503276         -2.287251         -0.878511  \n",
       "28             -0.212620         -0.503276         -0.735733          0.431543  \n",
       "29             -0.212620         -0.503276          0.298612          0.381157  \n",
       "...                  ...               ...               ...               ...  \n",
       "101736         -0.212620          0.288579          0.815784          0.532317  \n",
       "101737         -0.212620         -0.503276          0.815784          0.481930  \n",
       "101738         -0.212620          1.080434         -0.218561         -0.374644  \n",
       "101739         -0.212620          1.080434          0.815784         -0.324257  \n",
       "101740         -0.212620         -0.503276         -1.770078         -1.936631  \n",
       "101741         -0.212620          0.288579          0.815784         -1.130444  \n",
       "101742         -0.212620         -0.503276          0.815784         -0.072324  \n",
       "101743         -0.212620          0.288579          0.815784          0.028450  \n",
       "101744         -0.212620         -0.503276          0.815784          0.229997  \n",
       "101745          0.862108         -0.503276         -2.287251          0.633090  \n",
       "101746         -0.212620         -0.503276         -1.252906         -2.138178  \n",
       "101747         -0.212620         -0.503276          0.815784          0.633090  \n",
       "101748         -0.212620         -0.503276         -1.252906          1.237731  \n",
       "101749          0.862108         -0.503276          0.815784         -0.828124  \n",
       "101750         -0.212620         -0.503276          0.815784         -0.576191  \n",
       "101751         -0.212620         -0.503276          4.435992          1.943144  \n",
       "101752         -0.212620         -0.503276          0.298612         -1.533538  \n",
       "101753         -0.212620         -0.503276          0.815784          0.431543  \n",
       "101754         -0.212620         -0.503276          0.815784          0.381157  \n",
       "101755          0.862108         -0.503276          0.815784          1.741598  \n",
       "101756          0.862108          0.288579          0.815784          0.381157  \n",
       "101757         -0.212620          0.288579          0.815784         -1.130444  \n",
       "101758          0.862108         -0.503276          0.815784          1.640824  \n",
       "101759         -0.212620         -0.503276         -0.218561         -2.188565  \n",
       "101760          0.862108          1.080434          0.815784          0.078836  \n",
       "101761         -0.212620         -0.503276          0.815784          0.330770  \n",
       "101762         -0.212620          0.288579          0.815784         -0.425031  \n",
       "101763         -0.212620         -0.503276          2.884475          0.431543  \n",
       "101764         -0.212620          0.288579          0.815784          0.129223  \n",
       "101765         -0.212620         -0.503276          0.815784         -1.432764  \n",
       "\n",
       "[101766 rows x 7 columns]"
      ]
     },
     "execution_count": 22,
     "metadata": {},
     "output_type": "execute_result"
    }
   ],
   "source": [
    "std = pd.DataFrame(scaler.transform(diabetes_num_attr),columns=diabetes_num_attr.columns)\n",
    "std"
   ]
  },
  {
   "cell_type": "markdown",
   "metadata": {},
   "source": [
    "#### Combining numerical and categorical attributes "
   ]
  },
  {
   "cell_type": "code",
   "execution_count": 23,
   "metadata": {},
   "outputs": [
    {
     "name": "stdout",
     "output_type": "stream",
     "text": [
      "(101766, 44)\n",
      "time_in_hospital             float64\n",
      "num_medications              float64\n",
      "number_outpatient            float64\n",
      "number_emergency             float64\n",
      "number_inpatient             float64\n",
      "number_diagnoses             float64\n",
      "Total_Procedures             float64\n",
      "race                        category\n",
      "gender                      category\n",
      "age                         category\n",
      "admission_type_id           category\n",
      "discharge_disposition_id    category\n",
      "admission_source_id         category\n",
      "diag_1                      category\n",
      "diag_2                      category\n",
      "diag_3                      category\n",
      "max_glu_serum               category\n",
      "A1Cresult                   category\n",
      "metformin                   category\n",
      "repaglinide                 category\n",
      "nateglinide                 category\n",
      "chlorpropamide              category\n",
      "glimepiride                 category\n",
      "acetohexamide               category\n",
      "glipizide                   category\n",
      "glyburide                   category\n",
      "tolbutamide                 category\n",
      "pioglitazone                category\n",
      "rosiglitazone               category\n",
      "acarbose                    category\n",
      "miglitol                    category\n",
      "troglitazone                category\n",
      "tolazamide                  category\n",
      "examide                     category\n",
      "citoglipton                 category\n",
      "insulin                     category\n",
      "glyburide-metformin         category\n",
      "glipizide-metformin         category\n",
      "glimepiride-pioglitazone    category\n",
      "metformin-rosiglitazone     category\n",
      "metformin-pioglitazone      category\n",
      "change                      category\n",
      "diabetesMed                 category\n",
      "readmitted                  category\n",
      "dtype: object\n"
     ]
    }
   ],
   "source": [
    "a = [std,diabetes_cat_attr]\n",
    "\n",
    "diabetes_new = pd.concat(a,axis=1)\n",
    "print(diabetes_new.shape) # Dimensions \n",
    "print(diabetes_new.dtypes) # Type "
   ]
  },
  {
   "cell_type": "markdown",
   "metadata": {},
   "source": [
    "#### Droping the missing values"
   ]
  },
  {
   "cell_type": "code",
   "execution_count": 24,
   "metadata": {
    "collapsed": true
   },
   "outputs": [],
   "source": [
    "# We have a lot of data, instead of imputing(knn,softimpute) we simply drop the NAN values, So that we are more accurate.\n",
    "diabetes_new = diabetes_new.dropna()"
   ]
  },
  {
   "cell_type": "code",
   "execution_count": 25,
   "metadata": {},
   "outputs": [
    {
     "name": "stdout",
     "output_type": "stream",
     "text": [
      "(98053, 44)\n",
      "time_in_hospital             float64\n",
      "num_medications              float64\n",
      "number_outpatient            float64\n",
      "number_emergency             float64\n",
      "number_inpatient             float64\n",
      "number_diagnoses             float64\n",
      "Total_Procedures             float64\n",
      "race                        category\n",
      "gender                      category\n",
      "age                         category\n",
      "admission_type_id           category\n",
      "discharge_disposition_id    category\n",
      "admission_source_id         category\n",
      "diag_1                      category\n",
      "diag_2                      category\n",
      "diag_3                      category\n",
      "max_glu_serum               category\n",
      "A1Cresult                   category\n",
      "metformin                   category\n",
      "repaglinide                 category\n",
      "nateglinide                 category\n",
      "chlorpropamide              category\n",
      "glimepiride                 category\n",
      "acetohexamide               category\n",
      "glipizide                   category\n",
      "glyburide                   category\n",
      "tolbutamide                 category\n",
      "pioglitazone                category\n",
      "rosiglitazone               category\n",
      "acarbose                    category\n",
      "miglitol                    category\n",
      "troglitazone                category\n",
      "tolazamide                  category\n",
      "examide                     category\n",
      "citoglipton                 category\n",
      "insulin                     category\n",
      "glyburide-metformin         category\n",
      "glipizide-metformin         category\n",
      "glimepiride-pioglitazone    category\n",
      "metformin-rosiglitazone     category\n",
      "metformin-pioglitazone      category\n",
      "change                      category\n",
      "diabetesMed                 category\n",
      "readmitted                  category\n",
      "dtype: object\n",
      "time_in_hospital            0\n",
      "num_medications             0\n",
      "number_outpatient           0\n",
      "number_emergency            0\n",
      "number_inpatient            0\n",
      "number_diagnoses            0\n",
      "Total_Procedures            0\n",
      "race                        0\n",
      "gender                      0\n",
      "age                         0\n",
      "admission_type_id           0\n",
      "discharge_disposition_id    0\n",
      "admission_source_id         0\n",
      "diag_1                      0\n",
      "diag_2                      0\n",
      "diag_3                      0\n",
      "max_glu_serum               0\n",
      "A1Cresult                   0\n",
      "metformin                   0\n",
      "repaglinide                 0\n",
      "nateglinide                 0\n",
      "chlorpropamide              0\n",
      "glimepiride                 0\n",
      "acetohexamide               0\n",
      "glipizide                   0\n",
      "glyburide                   0\n",
      "tolbutamide                 0\n",
      "pioglitazone                0\n",
      "rosiglitazone               0\n",
      "acarbose                    0\n",
      "miglitol                    0\n",
      "troglitazone                0\n",
      "tolazamide                  0\n",
      "examide                     0\n",
      "citoglipton                 0\n",
      "insulin                     0\n",
      "glyburide-metformin         0\n",
      "glipizide-metformin         0\n",
      "glimepiride-pioglitazone    0\n",
      "metformin-rosiglitazone     0\n",
      "metformin-pioglitazone      0\n",
      "change                      0\n",
      "diabetesMed                 0\n",
      "readmitted                  0\n",
      "dtype: int64\n"
     ]
    }
   ],
   "source": [
    "print(diabetes_new.shape)\n",
    "print(diabetes_new.dtypes)\n",
    "print(diabetes_new.isnull().sum())"
   ]
  },
  {
   "cell_type": "code",
   "execution_count": 26,
   "metadata": {
    "collapsed": true
   },
   "outputs": [],
   "source": [
    "# Removing the variables with no variance\n",
    "diabetes_new = diabetes_new.drop(['examide','citoglipton'],1)"
   ]
  },
  {
   "cell_type": "code",
   "execution_count": 27,
   "metadata": {},
   "outputs": [
    {
     "data": {
      "text/plain": [
       "(98053, 42)"
      ]
     },
     "execution_count": 27,
     "metadata": {},
     "output_type": "execute_result"
    }
   ],
   "source": [
    "# Shape of the data after removing variables\n",
    "diabetes_new.shape"
   ]
  },
  {
   "cell_type": "markdown",
   "metadata": {},
   "source": [
    "#### Replacing string with codes in categorical variables"
   ]
  },
  {
   "cell_type": "code",
   "execution_count": 28,
   "metadata": {
    "collapsed": true
   },
   "outputs": [],
   "source": [
    "s= ['admission_source_id', 'diag_1', 'diag_2', 'diag_3', 'race', 'gender',\n",
    "       'age', 'admission_type_id', 'discharge_disposition_id', 'max_glu_serum',\n",
    "       'A1Cresult', 'metformin', 'repaglinide', 'nateglinide', 'glimepiride',\n",
    "       'chlorpropamide', 'acetohexamide', 'glipizide', 'glyburide',\n",
    "       'tolbutamide', 'pioglitazone', 'rosiglitazone', 'acarbose', 'miglitol',\n",
    "       'troglitazone', 'tolazamide',  'insulin',\n",
    "       'glyburide-metformin', 'glipizide-metformin',\n",
    "       'glimepiride-pioglitazone', 'metformin-rosiglitazone',\n",
    "       'metformin-pioglitazone', 'change', 'diabetesMed', 'readmitted']\n",
    "\n",
    "for i in s :\n",
    "    diabetes_new[i] = diabetes_new[i].cat.codes\n",
    "for i in s : \n",
    "    diabetes_new[i] = diabetes_new[i].astype('category')  "
   ]
  },
  {
   "cell_type": "markdown",
   "metadata": {},
   "source": [
    "#### Train Test and Validation Split"
   ]
  },
  {
   "cell_type": "code",
   "execution_count": 29,
   "metadata": {
    "collapsed": true
   },
   "outputs": [],
   "source": [
    "y = diabetes_new.readmitted # Target\n",
    "x = diabetes_new.drop(['readmitted'],1) # independent"
   ]
  },
  {
   "cell_type": "markdown",
   "metadata": {},
   "source": [
    "We divide the dataset into \n",
    "\n",
    "Train - On which we train our model\n",
    "\n",
    "Validation - On which we \"tune\" our model\n",
    "\n",
    "Test - which is used for testing"
   ]
  },
  {
   "cell_type": "code",
   "execution_count": 30,
   "metadata": {
    "collapsed": true
   },
   "outputs": [],
   "source": [
    "from sklearn.model_selection import train_test_split\n",
    "xtrain,xtest,ytrain,ytest = train_test_split(x,y,test_size = 0.2,stratify = y)\n",
    "x_train,x_val,y_train,y_val = train_test_split(xtrain, ytrain,test_size = 0.2,stratify = ytrain)"
   ]
  },
  {
   "cell_type": "code",
   "execution_count": 31,
   "metadata": {
    "scrolled": true
   },
   "outputs": [
    {
     "name": "stdout",
     "output_type": "stream",
     "text": [
      "(62753, 41) (62753,)\n",
      "(15689, 41) (15689,)\n",
      "(19611, 41) (19611,)\n"
     ]
    }
   ],
   "source": [
    "print(x_train.shape,y_train.shape) # 60 %  \n",
    "print(x_val.shape,y_val.shape) # 20 % \n",
    "print(xtest.shape,ytest.shape) # 20 %"
   ]
  },
  {
   "cell_type": "markdown",
   "metadata": {},
   "source": [
    "#### Class Imbalance"
   ]
  },
  {
   "cell_type": "code",
   "execution_count": 32,
   "metadata": {},
   "outputs": [
    {
     "data": {
      "image/png": "[encoded data removed]",
      "text/plain": [
       "<matplotlib.figure.Figure at 0x23b41bd1438>"
      ]
     },
     "metadata": {},
     "output_type": "display_data"
    }
   ],
   "source": [
    "z = pd.crosstab(diabetes_new.readmitted,columns='count').plot(kind = 'bar') #  We have class imbalance.\n",
    "plt.savefig('Class_Imbalance.jpg')"
   ]
  },
  {
   "cell_type": "code",
   "execution_count": 33,
   "metadata": {},
   "outputs": [
    {
     "data": {
      "text/plain": [
       "2    33496\n",
       "1    22175\n",
       "0     7082\n",
       "Name: readmitted, dtype: int64"
      ]
     },
     "execution_count": 33,
     "metadata": {},
     "output_type": "execute_result"
    }
   ],
   "source": [
    "y_train.value_counts()"
   ]
  },
  {
   "cell_type": "code",
   "execution_count": 34,
   "metadata": {
    "collapsed": true
   },
   "outputs": [],
   "source": [
    "import imblearn # Imbalance learn is a package which is used to handle class imbalance"
   ]
  },
  {
   "cell_type": "code",
   "execution_count": 35,
   "metadata": {
    "collapsed": true
   },
   "outputs": [],
   "source": [
    "# SMOTE - Synthetic Minority Oversampling Technique : It uses K- Nearest Neighbours and oversamples the minority class.\n",
    "from imblearn.over_sampling import SMOTE\n",
    "samp = SMOTE() "
   ]
  },
  {
   "cell_type": "markdown",
   "metadata": {},
   "source": [
    "Note : We should apply SMOTE after the train,test and validation split, as it uses knn. We dont want our model to see the test instances."
   ]
  },
  {
   "cell_type": "code",
   "execution_count": 36,
   "metadata": {
    "collapsed": true
   },
   "outputs": [],
   "source": [
    "x_resampled,y_resampled = samp.fit_sample(x_train,y_train) #Train "
   ]
  },
  {
   "cell_type": "code",
   "execution_count": 37,
   "metadata": {
    "collapsed": true
   },
   "outputs": [],
   "source": [
    "# The output we get is numpy array, so we convert it to data frame.\n",
    "x_resampled = pd.DataFrame(x_resampled,columns=x.columns)"
   ]
  },
  {
   "cell_type": "code",
   "execution_count": 38,
   "metadata": {
    "collapsed": true
   },
   "outputs": [],
   "source": [
    "y_resampled = pd.DataFrame(y_resampled,columns= ['readmitted'])"
   ]
  },
  {
   "cell_type": "code",
   "execution_count": 39,
   "metadata": {
    "collapsed": true
   },
   "outputs": [],
   "source": [
    "# We change the data type to category.\n",
    "y_resampled = y_resampled.readmitted.astype('category')"
   ]
  },
  {
   "cell_type": "code",
   "execution_count": 40,
   "metadata": {},
   "outputs": [
    {
     "data": {
      "text/plain": [
       "2    33496\n",
       "1    33496\n",
       "0    33496\n",
       "Name: readmitted, dtype: int64"
      ]
     },
     "execution_count": 40,
     "metadata": {},
     "output_type": "execute_result"
    }
   ],
   "source": [
    "y_resampled.value_counts() # Now we do not have the class imbalance."
   ]
  },
  {
   "cell_type": "code",
   "execution_count": 41,
   "metadata": {},
   "outputs": [
    {
     "data": {
      "text/plain": [
       "(100488, 41)"
      ]
     },
     "execution_count": 41,
     "metadata": {},
     "output_type": "execute_result"
    }
   ],
   "source": [
    "x_resampled.shape # gives dimensions"
   ]
  },
  {
   "cell_type": "code",
   "execution_count": 42,
   "metadata": {
    "collapsed": true
   },
   "outputs": [],
   "source": [
    "for i in range(7,41) :\n",
    "    x_resampled.iloc[:,i] = x_resampled.iloc[:,i].astype('category') "
   ]
  },
  {
   "cell_type": "code",
   "execution_count": 43,
   "metadata": {},
   "outputs": [
    {
     "data": {
      "text/plain": [
       "time_in_hospital             float64\n",
       "num_medications              float64\n",
       "number_outpatient            float64\n",
       "number_emergency             float64\n",
       "number_inpatient             float64\n",
       "number_diagnoses             float64\n",
       "Total_Procedures             float64\n",
       "race                        category\n",
       "gender                      category\n",
       "age                         category\n",
       "admission_type_id           category\n",
       "discharge_disposition_id    category\n",
       "admission_source_id         category\n",
       "diag_1                      category\n",
       "diag_2                      category\n",
       "diag_3                      category\n",
       "max_glu_serum               category\n",
       "A1Cresult                   category\n",
       "metformin                   category\n",
       "repaglinide                 category\n",
       "nateglinide                 category\n",
       "chlorpropamide              category\n",
       "glimepiride                 category\n",
       "acetohexamide               category\n",
       "glipizide                   category\n",
       "glyburide                   category\n",
       "tolbutamide                 category\n",
       "pioglitazone                category\n",
       "rosiglitazone               category\n",
       "acarbose                    category\n",
       "miglitol                    category\n",
       "troglitazone                category\n",
       "tolazamide                  category\n",
       "insulin                     category\n",
       "glyburide-metformin         category\n",
       "glipizide-metformin         category\n",
       "glimepiride-pioglitazone    category\n",
       "metformin-rosiglitazone     category\n",
       "metformin-pioglitazone      category\n",
       "change                      category\n",
       "diabetesMed                 category\n",
       "dtype: object"
      ]
     },
     "execution_count": 43,
     "metadata": {},
     "output_type": "execute_result"
    }
   ],
   "source": [
    "x_resampled.dtypes # datatypes"
   ]
  },
  {
   "cell_type": "markdown",
   "metadata": {},
   "source": [
    "## Model Building"
   ]
  },
  {
   "cell_type": "markdown",
   "metadata": {},
   "source": [
    "#### Logistic Regression"
   ]
  },
  {
   "cell_type": "code",
   "execution_count": 44,
   "metadata": {
    "collapsed": true
   },
   "outputs": [],
   "source": [
    "from sklearn.linear_model import LogisticRegression"
   ]
  },
  {
   "cell_type": "code",
   "execution_count": 45,
   "metadata": {},
   "outputs": [
    {
     "name": "stderr",
     "output_type": "stream",
     "text": [
      "C:\\Users\\Lenovo\\Anaconda3\\lib\\site-packages\\scipy\\optimize\\linesearch.py:285: LineSearchWarning: The line search algorithm did not converge\n",
      "  warn('The line search algorithm did not converge', LineSearchWarning)\n",
      "C:\\Users\\Lenovo\\Anaconda3\\lib\\site-packages\\sklearn\\utils\\optimize.py:195: UserWarning: Line Search failed\n",
      "  warnings.warn('Line Search failed')\n"
     ]
    },
    {
     "data": {
      "text/plain": [
       "LogisticRegression(C=1.0, class_weight=None, dual=False, fit_intercept=True,\n",
       "          intercept_scaling=1, max_iter=100, multi_class='multinomial',\n",
       "          n_jobs=1, penalty='l2', random_state=None, solver='newton-cg',\n",
       "          tol=0.0001, verbose=0, warm_start=False)"
      ]
     },
     "execution_count": 45,
     "metadata": {},
     "output_type": "execute_result"
    }
   ],
   "source": [
    "model = LogisticRegression(multi_class='multinomial',solver='newton-cg')\n",
    "model.fit(x_resampled,y_resampled)"
   ]
  },
  {
   "cell_type": "markdown",
   "metadata": {},
   "source": [
    "#### Predictions"
   ]
  },
  {
   "cell_type": "code",
   "execution_count": 46,
   "metadata": {
    "collapsed": true
   },
   "outputs": [],
   "source": [
    "val_pred = model.predict(x_val)"
   ]
  },
  {
   "cell_type": "markdown",
   "metadata": {},
   "source": [
    "#### Confusion Matrix"
   ]
  },
  {
   "cell_type": "code",
   "execution_count": 47,
   "metadata": {},
   "outputs": [
    {
     "data": {
      "text/plain": [
       "array([[ 698,  422,  651],\n",
       "       [1630, 1528, 2386],\n",
       "       [1651, 1550, 5173]], dtype=int64)"
      ]
     },
     "execution_count": 47,
     "metadata": {},
     "output_type": "execute_result"
    }
   ],
   "source": [
    "from sklearn import metrics\n",
    "metrics.confusion_matrix(y_true=y_val,y_pred=val_pred)"
   ]
  },
  {
   "cell_type": "code",
   "execution_count": 48,
   "metadata": {},
   "outputs": [
    {
     "name": "stdout",
     "output_type": "stream",
     "text": [
      "Classification Report: \n",
      "\n",
      "              precision    recall  f1-score   support\n",
      "\n",
      "          0       0.18      0.39      0.24      1771\n",
      "          1       0.44      0.28      0.34      5544\n",
      "          2       0.63      0.62      0.62      8374\n",
      "\n",
      "avg / total       0.51      0.47      0.48     15689\n",
      "\n"
     ]
    }
   ],
   "source": [
    "print(\"Classification Report: \\n\\n\",metrics.classification_report(y_val,val_pred)) ### Validation Predictions"
   ]
  },
  {
   "cell_type": "markdown",
   "metadata": {},
   "source": [
    "#### Test predictions"
   ]
  },
  {
   "cell_type": "code",
   "execution_count": 49,
   "metadata": {
    "collapsed": true
   },
   "outputs": [],
   "source": [
    "testprediction = model.predict(xtest)"
   ]
  },
  {
   "cell_type": "code",
   "execution_count": 50,
   "metadata": {},
   "outputs": [
    {
     "name": "stdout",
     "output_type": "stream",
     "text": [
      "Classification Report: \n",
      "\n",
      "              precision    recall  f1-score   support\n",
      "\n",
      "          0       0.18      0.40      0.25      2213\n",
      "          1       0.44      0.27      0.34      6930\n",
      "          2       0.63      0.63      0.63     10468\n",
      "\n",
      "avg / total       0.51      0.48      0.48     19611\n",
      "\n"
     ]
    },
    {
     "data": {
      "text/plain": [
       "0.47631431339554331"
      ]
     },
     "execution_count": 50,
     "metadata": {},
     "output_type": "execute_result"
    }
   ],
   "source": [
    "print(\"Classification Report: \\n\\n\",metrics.classification_report(ytest,testprediction))\n",
    "metrics.accuracy_score(ytest,testprediction)"
   ]
  },
  {
   "cell_type": "markdown",
   "metadata": {},
   "source": [
    "#### Decision Tree\n"
   ]
  },
  {
   "cell_type": "code",
   "execution_count": 51,
   "metadata": {
    "collapsed": true
   },
   "outputs": [],
   "source": [
    "from sklearn import tree"
   ]
  },
  {
   "cell_type": "code",
   "execution_count": 52,
   "metadata": {
    "collapsed": true
   },
   "outputs": [],
   "source": [
    "tree_model = tree.DecisionTreeClassifier(min_samples_leaf= 1,criterion='entropy',max_depth=3)"
   ]
  },
  {
   "cell_type": "code",
   "execution_count": 53,
   "metadata": {},
   "outputs": [
    {
     "data": {
      "text/plain": [
       "DecisionTreeClassifier(class_weight=None, criterion='entropy', max_depth=3,\n",
       "            max_features=None, max_leaf_nodes=None,\n",
       "            min_impurity_decrease=0.0, min_impurity_split=None,\n",
       "            min_samples_leaf=1, min_samples_split=2,\n",
       "            min_weight_fraction_leaf=0.0, presort=False, random_state=None,\n",
       "            splitter='best')"
      ]
     },
     "execution_count": 53,
     "metadata": {},
     "output_type": "execute_result"
    }
   ],
   "source": [
    "tree_model"
   ]
  },
  {
   "cell_type": "markdown",
   "metadata": {},
   "source": [
    "#### Predictions"
   ]
  },
  {
   "cell_type": "code",
   "execution_count": 54,
   "metadata": {
    "collapsed": true
   },
   "outputs": [],
   "source": [
    "t = tree_model.fit(X=x_resampled,y=y_resampled)"
   ]
  },
  {
   "cell_type": "code",
   "execution_count": 55,
   "metadata": {
    "collapsed": true
   },
   "outputs": [],
   "source": [
    "tval_pred = tree_model.predict(x_val) # Validation Prediction"
   ]
  },
  {
   "cell_type": "code",
   "execution_count": 56,
   "metadata": {},
   "outputs": [
    {
     "name": "stdout",
     "output_type": "stream",
     "text": [
      "Classification Report: \n",
      "\n",
      "              precision    recall  f1-score   support\n",
      "\n",
      "          0       0.27      0.21      0.23      2295\n",
      "          1       0.25      0.43      0.31      3167\n",
      "          2       0.75      0.61      0.67     10227\n",
      "\n",
      "avg / total       0.58      0.52      0.54     15689\n",
      "\n",
      "Accuracy is 0.516476512206\n"
     ]
    }
   ],
   "source": [
    "print(\"Classification Report: \\n\\n\",metrics.classification_report(tval_pred,y_val))\n",
    "print(\"Accuracy is\",metrics.accuracy_score(y_val,tval_pred))"
   ]
  },
  {
   "cell_type": "code",
   "execution_count": 57,
   "metadata": {
    "collapsed": true
   },
   "outputs": [],
   "source": [
    "ttest_pred = tree_model.predict(xtest) # Test Prediction"
   ]
  },
  {
   "cell_type": "code",
   "execution_count": 58,
   "metadata": {},
   "outputs": [
    {
     "name": "stdout",
     "output_type": "stream",
     "text": [
      "Classification Report: \n",
      "\n",
      "              precision    recall  f1-score   support\n",
      "\n",
      "          0       0.22      0.29      0.25      2213\n",
      "          1       0.41      0.23      0.30      6930\n",
      "          2       0.61      0.74      0.67     10468\n",
      "\n",
      "avg / total       0.49      0.51      0.49     19611\n",
      "\n",
      "Accuracy is 0.510784763653\n"
     ]
    }
   ],
   "source": [
    "print(\"Classification Report: \\n\\n\",metrics.classification_report(ytest,ttest_pred))\n",
    "print(\"Accuracy is\",metrics.accuracy_score(ytest,ttest_pred))"
   ]
  },
  {
   "cell_type": "markdown",
   "metadata": {},
   "source": [
    "#### SVM"
   ]
  },
  {
   "cell_type": "code",
   "execution_count": 59,
   "metadata": {
    "collapsed": true
   },
   "outputs": [],
   "source": [
    "from sklearn.svm import LinearSVC"
   ]
  },
  {
   "cell_type": "code",
   "execution_count": 60,
   "metadata": {},
   "outputs": [],
   "source": [
    "svm_model = LinearSVC()"
   ]
  },
  {
   "cell_type": "code",
   "execution_count": 61,
   "metadata": {},
   "outputs": [
    {
     "data": {
      "text/plain": [
       "LinearSVC(C=1.0, class_weight=None, dual=True, fit_intercept=True,\n",
       "     intercept_scaling=1, loss='squared_hinge', max_iter=1000,\n",
       "     multi_class='ovr', penalty='l2', random_state=None, tol=0.0001,\n",
       "     verbose=0)"
      ]
     },
     "execution_count": 61,
     "metadata": {},
     "output_type": "execute_result"
    }
   ],
   "source": [
    "svm_model.fit(x_resampled,y_resampled)"
   ]
  },
  {
   "cell_type": "markdown",
   "metadata": {},
   "source": [
    "#### Predictions"
   ]
  },
  {
   "cell_type": "code",
   "execution_count": 62,
   "metadata": {
    "collapsed": true
   },
   "outputs": [],
   "source": [
    "svm_pred = svm_model.predict(x_val) # Validation Predictions"
   ]
  },
  {
   "cell_type": "code",
   "execution_count": 63,
   "metadata": {},
   "outputs": [
    {
     "name": "stdout",
     "output_type": "stream",
     "text": [
      "Classification Report \n",
      "              precision    recall  f1-score   support\n",
      "\n",
      "          0       0.00      0.00      0.00      1771\n",
      "          1       0.43      0.45      0.44      5544\n",
      "          2       0.60      0.71      0.65      8374\n",
      "\n",
      "avg / total       0.47      0.54      0.50     15689\n",
      "\n",
      "accuracy: 0.537701574351\n"
     ]
    },
    {
     "name": "stderr",
     "output_type": "stream",
     "text": [
      "C:\\Users\\Lenovo\\Anaconda3\\lib\\site-packages\\sklearn\\metrics\\classification.py:1135: UndefinedMetricWarning: Precision and F-score are ill-defined and being set to 0.0 in labels with no predicted samples.\n",
      "  'precision', 'predicted', average, warn_for)\n"
     ]
    }
   ],
   "source": [
    "print(\"Classification Report \\n\",metrics.classification_report(y_val,svm_pred))\n",
    "print('accuracy:',metrics.accuracy_score(y_val,svm_pred))"
   ]
  },
  {
   "cell_type": "code",
   "execution_count": 64,
   "metadata": {
    "collapsed": true
   },
   "outputs": [],
   "source": [
    "svm_test_pred = svm_model.predict(xtest) # Test Prediction"
   ]
  },
  {
   "cell_type": "code",
   "execution_count": 65,
   "metadata": {
    "scrolled": true
   },
   "outputs": [
    {
     "name": "stdout",
     "output_type": "stream",
     "text": [
      "Classification Report: \n",
      "\n",
      "              precision    recall  f1-score   support\n",
      "\n",
      "          0       0.00      0.00      0.00      2213\n",
      "          1       0.43      0.44      0.43      6930\n",
      "          2       0.60      0.72      0.65     10468\n",
      "\n",
      "avg / total       0.47      0.54      0.50     19611\n",
      "\n",
      "Accuracy is 0.537045535669\n"
     ]
    },
    {
     "name": "stderr",
     "output_type": "stream",
     "text": [
      "C:\\Users\\Lenovo\\Anaconda3\\lib\\site-packages\\sklearn\\metrics\\classification.py:1135: UndefinedMetricWarning: Precision and F-score are ill-defined and being set to 0.0 in labels with no predicted samples.\n",
      "  'precision', 'predicted', average, warn_for)\n"
     ]
    }
   ],
   "source": [
    "print(\"Classification Report: \\n\\n\",metrics.classification_report(ytest,svm_test_pred))\n",
    "print(\"Accuracy is\",metrics.accuracy_score(ytest,svm_test_pred))"
   ]
  },
  {
   "cell_type": "markdown",
   "metadata": {
    "collapsed": true
   },
   "source": [
    "#### Random Forest"
   ]
  },
  {
   "cell_type": "code",
   "execution_count": 66,
   "metadata": {
    "collapsed": true
   },
   "outputs": [],
   "source": [
    "from sklearn.ensemble import RandomForestClassifier"
   ]
  },
  {
   "cell_type": "code",
   "execution_count": 67,
   "metadata": {
    "collapsed": true
   },
   "outputs": [],
   "source": [
    "random_model = RandomForestClassifier(n_estimators=100,max_depth=10)"
   ]
  },
  {
   "cell_type": "code",
   "execution_count": 68,
   "metadata": {
    "scrolled": true
   },
   "outputs": [
    {
     "data": {
      "text/plain": [
       "RandomForestClassifier(bootstrap=True, class_weight=None, criterion='gini',\n",
       "            max_depth=10, max_features='auto', max_leaf_nodes=None,\n",
       "            min_impurity_decrease=0.0, min_impurity_split=None,\n",
       "            min_samples_leaf=1, min_samples_split=2,\n",
       "            min_weight_fraction_leaf=0.0, n_estimators=100, n_jobs=1,\n",
       "            oob_score=False, random_state=None, verbose=0,\n",
       "            warm_start=False)"
      ]
     },
     "execution_count": 68,
     "metadata": {},
     "output_type": "execute_result"
    }
   ],
   "source": [
    "random_model.fit(x_train,y_train)"
   ]
  },
  {
   "cell_type": "markdown",
   "metadata": {},
   "source": [
    "#### Predictions"
   ]
  },
  {
   "cell_type": "code",
   "execution_count": 69,
   "metadata": {
    "collapsed": true
   },
   "outputs": [],
   "source": [
    "random_pred = random_model.predict(x_val) # Validation Prediction"
   ]
  },
  {
   "cell_type": "code",
   "execution_count": 70,
   "metadata": {},
   "outputs": [
    {
     "name": "stdout",
     "output_type": "stream",
     "text": [
      "Classification Report: \n",
      "\n",
      "              precision    recall  f1-score   support\n",
      "\n",
      "          0       0.33      0.00      0.00      1771\n",
      "          1       0.51      0.33      0.40      5544\n",
      "          2       0.60      0.87      0.71      8374\n",
      "\n",
      "avg / total       0.54      0.58      0.52     15689\n",
      "\n",
      "Accuracy is 0.580151698642\n"
     ]
    }
   ],
   "source": [
    "print(\"Classification Report: \\n\\n\",metrics.classification_report(y_true=y_val,y_pred=random_pred))\n",
    "print('Accuracy is',metrics.accuracy_score(y_val,random_pred))"
   ]
  },
  {
   "cell_type": "code",
   "execution_count": 71,
   "metadata": {
    "collapsed": true
   },
   "outputs": [],
   "source": [
    "random_pred1 = random_model.predict(xtest) # Test predcition"
   ]
  },
  {
   "cell_type": "code",
   "execution_count": 72,
   "metadata": {},
   "outputs": [
    {
     "name": "stdout",
     "output_type": "stream",
     "text": [
      "Classification Report: \n",
      "\n",
      "              precision    recall  f1-score   support\n",
      "\n",
      "          0       0.67      0.00      0.00      2213\n",
      "          1       0.49      0.32      0.39      6930\n",
      "          2       0.60      0.86      0.70     10468\n",
      "\n",
      "avg / total       0.57      0.57      0.51     19611\n",
      "\n",
      "Accuracy is 0.572841772475\n"
     ]
    }
   ],
   "source": [
    "print(\"Classification Report: \\n\\n\",metrics.classification_report(y_pred=random_pred1,y_true=ytest))\n",
    "print('Accuracy is',metrics.accuracy_score(random_pred1,ytest))"
   ]
  },
  {
   "cell_type": "markdown",
   "metadata": {},
   "source": [
    "### XGBoost"
   ]
  },
  {
   "cell_type": "code",
   "execution_count": 73,
   "metadata": {
    "collapsed": true
   },
   "outputs": [],
   "source": [
    "from xgboost import XGBClassifier"
   ]
  },
  {
   "cell_type": "code",
   "execution_count": 74,
   "metadata": {
    "collapsed": true
   },
   "outputs": [],
   "source": [
    "xg = XGBClassifier(objective='multi:softmax',num_class = 3,n_estimators=150,subsample=0.8,nthread=4)"
   ]
  },
  {
   "cell_type": "code",
   "execution_count": 75,
   "metadata": {},
   "outputs": [
    {
     "data": {
      "text/plain": [
       "XGBClassifier(base_score=0.5, booster='gbtree', colsample_bylevel=1,\n",
       "       colsample_bytree=1, gamma=0, learning_rate=0.1, max_delta_step=0,\n",
       "       max_depth=3, min_child_weight=1, missing=None, n_estimators=150,\n",
       "       n_jobs=1, nthread=4, num_class=3, objective='multi:softprob',\n",
       "       random_state=0, reg_alpha=0, reg_lambda=1, scale_pos_weight=1,\n",
       "       seed=None, silent=True, subsample=0.8)"
      ]
     },
     "execution_count": 75,
     "metadata": {},
     "output_type": "execute_result"
    }
   ],
   "source": [
    "xg.fit(np.array(x_resampled),np.array(y_resampled))"
   ]
  },
  {
   "cell_type": "markdown",
   "metadata": {},
   "source": [
    "#### Predictions"
   ]
  },
  {
   "cell_type": "code",
   "execution_count": 76,
   "metadata": {
    "collapsed": true
   },
   "outputs": [],
   "source": [
    "xg_vp = xg.predict(np.array(x_val)) # Validation Prediction"
   ]
  },
  {
   "cell_type": "code",
   "execution_count": 77,
   "metadata": {},
   "outputs": [
    {
     "name": "stdout",
     "output_type": "stream",
     "text": [
      "Classification Report: \n",
      "\n",
      "              precision    recall  f1-score   support\n",
      "\n",
      "          0       0.29      0.04      0.07      1771\n",
      "          1       0.51      0.36      0.42      5544\n",
      "          2       0.61      0.84      0.71      8374\n",
      "\n",
      "avg / total       0.54      0.58      0.53     15689\n",
      "\n",
      "Accuracy is 0.579259353687\n"
     ]
    }
   ],
   "source": [
    "print(\"Classification Report: \\n\\n\",metrics.classification_report(y_val,xg_vp))\n",
    "print('Accuracy is',metrics.accuracy_score(xg_vp,y_val))"
   ]
  },
  {
   "cell_type": "code",
   "execution_count": 78,
   "metadata": {
    "collapsed": true
   },
   "outputs": [],
   "source": [
    "xp = xg.predict(np.array(xtest)) # Test Prediction"
   ]
  },
  {
   "cell_type": "code",
   "execution_count": 79,
   "metadata": {},
   "outputs": [
    {
     "name": "stdout",
     "output_type": "stream",
     "text": [
      "Classification Report: \n",
      "\n",
      "              precision    recall  f1-score   support\n",
      "\n",
      "          0       0.40      0.06      0.10      2213\n",
      "          1       0.50      0.35      0.41      6930\n",
      "          2       0.61      0.83      0.70     10468\n",
      "\n",
      "avg / total       0.55      0.58      0.53     19611\n",
      "\n",
      "Accuracy is 0.576309214217\n"
     ]
    }
   ],
   "source": [
    "print(\"Classification Report: \\n\\n\",metrics.classification_report(ytest,xp))\n",
    "print('Accuracy is',metrics.accuracy_score(ytest,xp))"
   ]
  },
  {
   "cell_type": "markdown",
   "metadata": {},
   "source": [
    "#### Majority Voting"
   ]
  },
  {
   "cell_type": "code",
   "execution_count": 80,
   "metadata": {
    "collapsed": true
   },
   "outputs": [],
   "source": [
    "s = [pd.DataFrame(ttest_pred),pd.DataFrame(random_pred1),\n",
    "         pd.DataFrame(xp)] # Combining the predictions of models"
   ]
  },
  {
   "cell_type": "code",
   "execution_count": 81,
   "metadata": {
    "collapsed": true
   },
   "outputs": [],
   "source": [
    "Maj = pd.concat(s,1)"
   ]
  },
  {
   "cell_type": "code",
   "execution_count": 82,
   "metadata": {
    "collapsed": true
   },
   "outputs": [],
   "source": [
    "Maj_pred = Maj.mode(axis = 1)"
   ]
  },
  {
   "cell_type": "code",
   "execution_count": 83,
   "metadata": {
    "collapsed": true
   },
   "outputs": [],
   "source": [
    "mpred = Maj_pred.dropna(1)"
   ]
  },
  {
   "cell_type": "markdown",
   "metadata": {},
   "source": [
    "#### Predictions"
   ]
  },
  {
   "cell_type": "code",
   "execution_count": 84,
   "metadata": {},
   "outputs": [
    {
     "name": "stdout",
     "output_type": "stream",
     "text": [
      "Classification Report: \n",
      "\n",
      "              precision    recall  f1-score   support\n",
      "\n",
      "          0       0.31      0.08      0.12      2213\n",
      "          1       0.50      0.32      0.39      6930\n",
      "          2       0.60      0.84      0.70     10468\n",
      "\n",
      "avg / total       0.53      0.57      0.53     19611\n",
      "\n",
      "Accuracy is 0.569884248636\n"
     ]
    }
   ],
   "source": [
    "print(\"Classification Report: \\n\\n\",metrics.classification_report(ytest,mpred)) \n",
    "print('Accuracy is',metrics.accuracy_score(mpred,ytest))"
   ]
  },
  {
   "cell_type": "markdown",
   "metadata": {
    "collapsed": true
   },
   "source": [
    "### Stacking"
   ]
  },
  {
   "cell_type": "code",
   "execution_count": 85,
   "metadata": {
    "collapsed": true
   },
   "outputs": [],
   "source": [
    "s_dt = t.predict(x_resampled) # Train predictions"
   ]
  },
  {
   "cell_type": "code",
   "execution_count": 86,
   "metadata": {
    "collapsed": true
   },
   "outputs": [],
   "source": [
    "s_rf = random_model.predict(x_resampled)# Train predictions"
   ]
  },
  {
   "cell_type": "code",
   "execution_count": 87,
   "metadata": {
    "collapsed": true
   },
   "outputs": [],
   "source": [
    "s_xg = xg.predict(np.array(x_resampled))# Train predictions"
   ]
  },
  {
   "cell_type": "code",
   "execution_count": 88,
   "metadata": {
    "collapsed": true
   },
   "outputs": [],
   "source": [
    "st = [pd.DataFrame(s_dt),pd.DataFrame(s_rf),pd.DataFrame(s_xg)] # test predictions of decision tree,random forest, xgboost\n",
    "s_train = pd.concat(st,1)"
   ]
  },
  {
   "cell_type": "code",
   "execution_count": 89,
   "metadata": {
    "collapsed": true
   },
   "outputs": [],
   "source": [
    "s_test = Maj"
   ]
  },
  {
   "cell_type": "code",
   "execution_count": 90,
   "metadata": {},
   "outputs": [
    {
     "data": {
      "text/plain": [
       "(19611, 3)"
      ]
     },
     "execution_count": 90,
     "metadata": {},
     "output_type": "execute_result"
    }
   ],
   "source": [
    "s_test.shape"
   ]
  },
  {
   "cell_type": "code",
   "execution_count": 91,
   "metadata": {
    "collapsed": true
   },
   "outputs": [],
   "source": [
    "s_train.columns = ['dt','rf','xg']"
   ]
  },
  {
   "cell_type": "code",
   "execution_count": 92,
   "metadata": {},
   "outputs": [
    {
     "data": {
      "text/plain": [
       "RandomForestClassifier(bootstrap=True, class_weight=None, criterion='gini',\n",
       "            max_depth=10, max_features='auto', max_leaf_nodes=None,\n",
       "            min_impurity_decrease=0.0, min_impurity_split=None,\n",
       "            min_samples_leaf=1, min_samples_split=2,\n",
       "            min_weight_fraction_leaf=0.0, n_estimators=100, n_jobs=1,\n",
       "            oob_score=False, random_state=None, verbose=0,\n",
       "            warm_start=False)"
      ]
     },
     "execution_count": 92,
     "metadata": {},
     "output_type": "execute_result"
    }
   ],
   "source": [
    "random_model.fit(s_train,y_resampled)"
   ]
  },
  {
   "cell_type": "markdown",
   "metadata": {},
   "source": [
    "#### Predictions"
   ]
  },
  {
   "cell_type": "code",
   "execution_count": 93,
   "metadata": {
    "collapsed": true
   },
   "outputs": [],
   "source": [
    "s_p = random_model.predict(s_test)"
   ]
  },
  {
   "cell_type": "code",
   "execution_count": 94,
   "metadata": {},
   "outputs": [
    {
     "name": "stdout",
     "output_type": "stream",
     "text": [
      "             precision    recall  f1-score   support\n",
      "\n",
      "          0       0.06      0.40      0.10       328\n",
      "          1       0.35      0.50      0.41      4957\n",
      "          2       0.83      0.61      0.70     14326\n",
      "\n",
      "avg / total       0.70      0.57      0.62     19611\n",
      "\n",
      "Accuracy: 0.574881444088\n"
     ]
    }
   ],
   "source": [
    "print(metrics.classification_report(s_p,ytest))\n",
    "print('Accuracy:',metrics.accuracy_score(s_p,ytest))"
   ]
  },
  {
   "cell_type": "markdown",
   "metadata": {
    "collapsed": true
   },
   "source": [
    "### MLP "
   ]
  },
  {
   "cell_type": "code",
   "execution_count": 95,
   "metadata": {},
   "outputs": [
    {
     "data": {
      "text/plain": [
       "(62753, 41)"
      ]
     },
     "execution_count": 95,
     "metadata": {},
     "output_type": "execute_result"
    }
   ],
   "source": [
    "x_train.shape"
   ]
  },
  {
   "cell_type": "code",
   "execution_count": 96,
   "metadata": {
    "collapsed": true
   },
   "outputs": [],
   "source": [
    "tr = y_resampled"
   ]
  },
  {
   "cell_type": "code",
   "execution_count": 97,
   "metadata": {},
   "outputs": [
    {
     "name": "stderr",
     "output_type": "stream",
     "text": [
      "Using TensorFlow backend.\n"
     ]
    }
   ],
   "source": [
    "from keras.utils.np_utils import to_categorical\n",
    "tr = to_categorical(tr)"
   ]
  },
  {
   "cell_type": "code",
   "execution_count": 98,
   "metadata": {},
   "outputs": [
    {
     "data": {
      "text/plain": [
       "(100488, 3)"
      ]
     },
     "execution_count": 98,
     "metadata": {},
     "output_type": "execute_result"
    }
   ],
   "source": [
    "tr.shape"
   ]
  },
  {
   "cell_type": "code",
   "execution_count": 99,
   "metadata": {
    "collapsed": true
   },
   "outputs": [],
   "source": [
    "from keras.layers import  Dense,Dropout,Input\n",
    "from keras.models import Sequential,Model"
   ]
  },
  {
   "cell_type": "code",
   "execution_count": 100,
   "metadata": {
    "collapsed": true
   },
   "outputs": [],
   "source": [
    "model = Sequential()\n",
    "model.add(Dense(150,input_dim = 41,activation = 'relu'))\n",
    "model.add(Dropout(0.3))\n",
    "model.add(Dense(100,activation = 'relu',))\n",
    "model.add(Dense(3,activation='softmax'))\n",
    "model.compile(loss = 'categorical_crossentropy', optimizer='adam', metrics= ['accuracy'])"
   ]
  },
  {
   "cell_type": "code",
   "execution_count": 101,
   "metadata": {},
   "outputs": [
    {
     "name": "stdout",
     "output_type": "stream",
     "text": [
      "_________________________________________________________________\n",
      "Layer (type)                 Output Shape              Param #   \n",
      "=================================================================\n",
      "dense_1 (Dense)              (None, 150)               6300      \n",
      "_________________________________________________________________\n",
      "dropout_1 (Dropout)          (None, 150)               0         \n",
      "_________________________________________________________________\n",
      "dense_2 (Dense)              (None, 100)               15100     \n",
      "_________________________________________________________________\n",
      "dense_3 (Dense)              (None, 3)                 303       \n",
      "=================================================================\n",
      "Total params: 21,703\n",
      "Trainable params: 21,703\n",
      "Non-trainable params: 0\n",
      "_________________________________________________________________\n"
     ]
    }
   ],
   "source": [
    "model.summary()"
   ]
  },
  {
   "cell_type": "code",
   "execution_count": 102,
   "metadata": {
    "collapsed": true
   },
   "outputs": [],
   "source": [
    "xtr = np.array(x_resampled)"
   ]
  },
  {
   "cell_type": "code",
   "execution_count": 103,
   "metadata": {},
   "outputs": [
    {
     "data": {
      "text/plain": [
       "(100488, 41)"
      ]
     },
     "execution_count": 103,
     "metadata": {},
     "output_type": "execute_result"
    }
   ],
   "source": [
    "xtr.shape # dimensions"
   ]
  },
  {
   "cell_type": "code",
   "execution_count": 104,
   "metadata": {
    "scrolled": true
   },
   "outputs": [
    {
     "name": "stdout",
     "output_type": "stream",
     "text": [
      "Epoch 1/20\n",
      "100488/100488 [==============================] - 4s - loss: 1.2785 - acc: 0.3741     \n",
      "Epoch 2/20\n",
      "100488/100488 [==============================] - 3s - loss: 1.0689 - acc: 0.4112     \n",
      "Epoch 3/20\n",
      "100488/100488 [==============================] - 3s - loss: 1.0577 - acc: 0.4246     \n",
      "Epoch 4/20\n",
      "100488/100488 [==============================] - 3s - loss: 1.0525 - acc: 0.4316     \n",
      "Epoch 5/20\n",
      "100488/100488 [==============================] - 3s - loss: 1.0493 - acc: 0.4364     \n",
      "Epoch 6/20\n",
      "100488/100488 [==============================] - 3s - loss: 1.0455 - acc: 0.4416     \n",
      "Epoch 7/20\n",
      "100488/100488 [==============================] - 3s - loss: 1.0439 - acc: 0.4435     \n",
      "Epoch 8/20\n",
      "100488/100488 [==============================] - 3s - loss: 1.0412 - acc: 0.4476     \n",
      "Epoch 9/20\n",
      "100488/100488 [==============================] - 3s - loss: 1.0393 - acc: 0.4482     \n",
      "Epoch 10/20\n",
      "100488/100488 [==============================] - 3s - loss: 1.0357 - acc: 0.4539     \n",
      "Epoch 11/20\n",
      "100488/100488 [==============================] - 3s - loss: 1.0331 - acc: 0.4539     \n",
      "Epoch 12/20\n",
      "100488/100488 [==============================] - 3s - loss: 1.0318 - acc: 0.4557     \n",
      "Epoch 13/20\n",
      "100488/100488 [==============================] - 3s - loss: 1.0305 - acc: 0.4575     \n",
      "Epoch 14/20\n",
      "100488/100488 [==============================] - 4s - loss: 1.0277 - acc: 0.4611     \n",
      "Epoch 15/20\n",
      "100488/100488 [==============================] - 4s - loss: 1.0260 - acc: 0.4625     \n",
      "Epoch 16/20\n",
      "100488/100488 [==============================] - 3s - loss: 1.0247 - acc: 0.4640     \n",
      "Epoch 17/20\n",
      "100488/100488 [==============================] - 4s - loss: 1.0244 - acc: 0.4652     \n",
      "Epoch 18/20\n",
      "100488/100488 [==============================] - 4s - loss: 1.0227 - acc: 0.4661     \n",
      "Epoch 19/20\n",
      "100488/100488 [==============================] - 3s - loss: 1.0216 - acc: 0.4679     \n",
      "Epoch 20/20\n",
      "100488/100488 [==============================] - 3s - loss: 1.0213 - acc: 0.4682     \n"
     ]
    },
    {
     "data": {
      "text/plain": [
       "<keras.callbacks.History at 0x23b4fb57400>"
      ]
     },
     "execution_count": 104,
     "metadata": {},
     "output_type": "execute_result"
    }
   ],
   "source": [
    "model.fit(xtr,tr,batch_size=128,epochs = 20)"
   ]
  },
  {
   "cell_type": "code",
   "execution_count": 105,
   "metadata": {
    "collapsed": true
   },
   "outputs": [],
   "source": [
    "ya = to_categorical(y_val)"
   ]
  },
  {
   "cell_type": "markdown",
   "metadata": {},
   "source": [
    "#### Predictions"
   ]
  },
  {
   "cell_type": "code",
   "execution_count": 106,
   "metadata": {},
   "outputs": [
    {
     "name": "stdout",
     "output_type": "stream",
     "text": [
      "15584/15689 [============================>.] - ETA: 0s"
     ]
    },
    {
     "data": {
      "text/plain": [
       "[1.0609036863127526, 0.42456498184010499]"
      ]
     },
     "execution_count": 106,
     "metadata": {},
     "output_type": "execute_result"
    }
   ],
   "source": [
    "model.evaluate(x=np.array(x_val),y=ya) # predictions"
   ]
  },
  {
   "cell_type": "markdown",
   "metadata": {},
   "source": [
    "### Autoencoders"
   ]
  },
  {
   "cell_type": "code",
   "execution_count": 107,
   "metadata": {},
   "outputs": [
    {
     "name": "stdout",
     "output_type": "stream",
     "text": [
      "_________________________________________________________________\n",
      "Layer (type)                 Output Shape              Param #   \n",
      "=================================================================\n",
      "input_1 (InputLayer)         (None, 41)                0         \n",
      "_________________________________________________________________\n",
      "dropout_2 (Dropout)          (None, 41)                0         \n",
      "_________________________________________________________________\n",
      "dense_4 (Dense)              (None, 150)               6300      \n",
      "_________________________________________________________________\n",
      "dense_5 (Dense)              (None, 41)                6191      \n",
      "=================================================================\n",
      "Total params: 12,491\n",
      "Trainable params: 12,491\n",
      "Non-trainable params: 0\n",
      "_________________________________________________________________\n"
     ]
    }
   ],
   "source": [
    "\n",
    "input_image = Input(shape = (41,))\n",
    "corrupt_image = Dropout(0.5)(input_image)\n",
    "\n",
    "#encode\n",
    "\n",
    "encoded = Dense(150,activation = 'relu')(corrupt_image)\n",
    "\n",
    "#decode\n",
    "\n",
    "decoded = Dense(41, activation = 'relu')(encoded)\n",
    "\n",
    "# Apply auto encoder \n",
    "\n",
    "autoencoder = Model(input_image,decoded)\n",
    "\n",
    "autoencoder.compile(optimizer='adam', loss = 'categorical_crossentropy', metrics=['accuracy'])\n",
    "\n",
    "autoencoder.summary()"
   ]
  },
  {
   "cell_type": "code",
   "execution_count": 108,
   "metadata": {
    "scrolled": true
   },
   "outputs": [
    {
     "name": "stdout",
     "output_type": "stream",
     "text": [
      "Epoch 1/7\n",
      "100488/100488 [==============================] - 5s - loss: 405.6206 - acc: 0.9698     \n",
      "Epoch 2/7\n",
      "100488/100488 [==============================] - 5s - loss: 347.7488 - acc: 0.9891     \n",
      "Epoch 3/7\n",
      "100488/100488 [==============================] - 5s - loss: 343.0777 - acc: 0.9891     \n",
      "Epoch 4/7\n",
      "100488/100488 [==============================] - 5s - loss: 343.3047 - acc: 0.9891     \n",
      "Epoch 5/7\n",
      "100488/100488 [==============================] - 5s - loss: 343.4174 - acc: 0.9891     \n",
      "Epoch 6/7\n",
      "100488/100488 [==============================] - 5s - loss: 341.1982 - acc: 0.9891     \n",
      "Epoch 7/7\n",
      "100488/100488 [==============================] - 5s - loss: 331.3733 - acc: 0.9891     \n"
     ]
    }
   ],
   "source": [
    "history = autoencoder.fit(xtr,xtr,epochs = 7, batch_size=64,shuffle = True, verbose = 1)"
   ]
  },
  {
   "cell_type": "code",
   "execution_count": 109,
   "metadata": {
    "collapsed": true
   },
   "outputs": [],
   "source": [
    "autoencoder.save('a1.h5') #saving weights"
   ]
  },
  {
   "cell_type": "code",
   "execution_count": 110,
   "metadata": {
    "collapsed": true
   },
   "outputs": [],
   "source": [
    "from keras.models import load_model\n",
    "autoencoder1 = load_model('a1.h5') # Loading weights"
   ]
  },
  {
   "cell_type": "code",
   "execution_count": 111,
   "metadata": {
    "collapsed": true
   },
   "outputs": [],
   "source": [
    "encoder = Model(input_image,encoded)\n",
    "htrain_data = encoder.predict(xtr)"
   ]
  },
  {
   "cell_type": "code",
   "execution_count": 112,
   "metadata": {},
   "outputs": [
    {
     "data": {
      "text/plain": [
       "(100488, 150)"
      ]
     },
     "execution_count": 112,
     "metadata": {},
     "output_type": "execute_result"
    }
   ],
   "source": [
    "htrain_data.shape # dimensions"
   ]
  },
  {
   "cell_type": "code",
   "execution_count": 113,
   "metadata": {
    "scrolled": true
   },
   "outputs": [
    {
     "name": "stdout",
     "output_type": "stream",
     "text": [
      "_________________________________________________________________\n",
      "Layer (type)                 Output Shape              Param #   \n",
      "=================================================================\n",
      "input_2 (InputLayer)         (None, 150)               0         \n",
      "_________________________________________________________________\n",
      "dropout_3 (Dropout)          (None, 150)               0         \n",
      "_________________________________________________________________\n",
      "dense_6 (Dense)              (None, 100)               15100     \n",
      "_________________________________________________________________\n",
      "dense_7 (Dense)              (None, 150)               15150     \n",
      "=================================================================\n",
      "Total params: 30,250\n",
      "Trainable params: 30,250\n",
      "Non-trainable params: 0\n",
      "_________________________________________________________________\n"
     ]
    }
   ],
   "source": [
    "input_image = Input(shape=(150,))\n",
    "corrupt_image = Dropout(0.5)(input_image)\n",
    "# encode\n",
    "encode = Dense(100,activation='relu')(corrupt_image)\n",
    "# Decode\n",
    "decode = Dense(150,activation='relu')(encode)\n",
    "\n",
    "# Autoencoder\n",
    "\n",
    "autoencoder1 = Model(input_image,decode)\n",
    "autoencoder1.compile(loss = 'categorical_crossentropy',optimizer = 'adam',metrics = ['accuracy'])\n",
    "autoencoder1.summary()"
   ]
  },
  {
   "cell_type": "code",
   "execution_count": 114,
   "metadata": {},
   "outputs": [
    {
     "name": "stdout",
     "output_type": "stream",
     "text": [
      "Epoch 1/7\n",
      "100488/100488 [==============================] - 7s - loss: 5791.8868 - acc: 0.6992     \n",
      "Epoch 2/7\n",
      "100488/100488 [==============================] - 6s - loss: 5688.0029 - acc: 0.9702     \n",
      "Epoch 3/7\n",
      "100488/100488 [==============================] - 6s - loss: 5684.4752 - acc: 0.9704     \n",
      "Epoch 4/7\n",
      "100488/100488 [==============================] - 6s - loss: 5682.8145 - acc: 0.9717     \n",
      "Epoch 5/7\n",
      "100488/100488 [==============================] - 7s - loss: 5681.4906 - acc: 0.9746     \n",
      "Epoch 6/7\n",
      "100488/100488 [==============================] - 7s - loss: 5681.2324 - acc: 0.9755     \n",
      "Epoch 7/7\n",
      "100488/100488 [==============================] - 7s - loss: 5680.6282 - acc: 0.9750     \n"
     ]
    }
   ],
   "source": [
    "hist = autoencoder1.fit(htrain_data,htrain_data,batch_size=64,epochs=7)"
   ]
  },
  {
   "cell_type": "code",
   "execution_count": 115,
   "metadata": {
    "collapsed": true
   },
   "outputs": [],
   "source": [
    "autoencoder1.save('a2.h5') # loading weights"
   ]
  },
  {
   "cell_type": "code",
   "execution_count": 116,
   "metadata": {
    "collapsed": true
   },
   "outputs": [],
   "source": [
    "from keras.models import load_model\n",
    "autoencoder1 = load_model('a2.h5')"
   ]
  },
  {
   "cell_type": "code",
   "execution_count": 117,
   "metadata": {
    "collapsed": true
   },
   "outputs": [],
   "source": [
    "mlp = Sequential()\n",
    "\n",
    "mlp.add(Dropout(0.2,input_shape=(41,))) # Dropout layer which acts as regularization\n",
    "mlp.add(Dense(150,activation = 'relu'))\n",
    "\n",
    "mlp.add(Dropout(0.5))\n",
    "mlp.add(Dense(100,activation = 'relu'))\n",
    "\n",
    "mlp.add(Dropout(0.5))\n",
    "mlp.add(Dense(3,  activation = 'softmax'))\n",
    "\n",
    "\n",
    "mlp.compile(loss = 'categorical_crossentropy',optimizer = 'adam',metrics=['accuracy'])\n"
   ]
  },
  {
   "cell_type": "code",
   "execution_count": 118,
   "metadata": {
    "scrolled": true
   },
   "outputs": [
    {
     "name": "stdout",
     "output_type": "stream",
     "text": [
      "_________________________________________________________________\n",
      "Layer (type)                 Output Shape              Param #   \n",
      "=================================================================\n",
      "dense_1 (Dense)              (None, 150)               6300      \n",
      "_________________________________________________________________\n",
      "dropout_1 (Dropout)          (None, 150)               0         \n",
      "_________________________________________________________________\n",
      "dense_2 (Dense)              (None, 100)               15100     \n",
      "_________________________________________________________________\n",
      "dense_3 (Dense)              (None, 3)                 303       \n",
      "=================================================================\n",
      "Total params: 21,703\n",
      "Trainable params: 21,703\n",
      "Non-trainable params: 0\n",
      "_________________________________________________________________\n"
     ]
    }
   ],
   "source": [
    "model.summary() # summary of the model"
   ]
  },
  {
   "cell_type": "code",
   "execution_count": 119,
   "metadata": {},
   "outputs": [
    {
     "name": "stdout",
     "output_type": "stream",
     "text": [
      "Epoch 1/7\n",
      "100488/100488 [==============================] - 5s - loss: 5.1521 - acc: 0.3368     \n",
      "Epoch 2/7\n",
      "100488/100488 [==============================] - 5s - loss: 1.1060 - acc: 0.3421     \n",
      "Epoch 3/7\n",
      "100488/100488 [==============================] - 4s - loss: 1.0992 - acc: 0.3468     \n",
      "Epoch 4/7\n",
      "100488/100488 [==============================] - 4s - loss: 1.0927 - acc: 0.3630     \n",
      "Epoch 5/7\n",
      "100488/100488 [==============================] - 5s - loss: 1.0865 - acc: 0.3766     \n",
      "Epoch 6/7\n",
      "100488/100488 [==============================] - 5s - loss: 1.0808 - acc: 0.3881     \n",
      "Epoch 7/7\n",
      "100488/100488 [==============================] - 4s - loss: 1.0766 - acc: 0.3983     \n"
     ]
    },
    {
     "data": {
      "text/plain": [
       "<keras.callbacks.History at 0x23b52901cf8>"
      ]
     },
     "execution_count": 119,
     "metadata": {},
     "output_type": "execute_result"
    }
   ],
   "source": [
    "# setting weights\n",
    "mlp.layers[1].set_weights(autoencoder.layers[2].get_weights()) \n",
    "mlp.layers[3].set_weights(autoencoder1.layers[2].get_weights()) \n",
    "# model fitting\n",
    "mlp.fit(xtr,tr,batch_size = 128,\n",
    "                 epochs = 7,verbose = 1)\n"
   ]
  },
  {
   "cell_type": "markdown",
   "metadata": {},
   "source": [
    "### Approach 2\n",
    "\n",
    "Took the important features from Random Forest."
   ]
  },
  {
   "cell_type": "code",
   "execution_count": 120,
   "metadata": {
    "collapsed": true
   },
   "outputs": [],
   "source": [
    "new = x_resampled\n",
    "new_test = xtest"
   ]
  },
  {
   "cell_type": "code",
   "execution_count": 121,
   "metadata": {
    "collapsed": true
   },
   "outputs": [],
   "source": [
    "new = new.drop(['repaglinide',  'chlorpropamide', 'glimepiride',\n",
    "       'acetohexamide', 'tolbutamide','pioglitazone',  'acarbose', 'miglitol', 'troglitazone',\n",
    "       'tolazamide', 'glyburide-metformin', 'glipizide-metformin',\n",
    "       'glimepiride-pioglitazone', 'metformin-rosiglitazone',\n",
    "       'metformin-pioglitazone'],1)\n",
    "# Important features\n",
    "new_test = new_test.drop(['repaglinide',  'chlorpropamide', 'glimepiride',\n",
    "       'acetohexamide', 'tolbutamide','pioglitazone',  'acarbose', 'miglitol', 'troglitazone',\n",
    "       'tolazamide', 'glyburide-metformin', 'glipizide-metformin',\n",
    "       'glimepiride-pioglitazone', 'metformin-rosiglitazone',\n",
    "       'metformin-pioglitazone'],1)"
   ]
  },
  {
   "cell_type": "markdown",
   "metadata": {
    "collapsed": true
   },
   "source": [
    "### Logistic Regression"
   ]
  },
  {
   "cell_type": "code",
   "execution_count": 122,
   "metadata": {
    "collapsed": true
   },
   "outputs": [],
   "source": [
    "log_model = LogisticRegression(multi_class='multinomial',solver='newton-cg')"
   ]
  },
  {
   "cell_type": "code",
   "execution_count": 123,
   "metadata": {},
   "outputs": [
    {
     "data": {
      "text/plain": [
       "LogisticRegression(C=1.0, class_weight=None, dual=False, fit_intercept=True,\n",
       "          intercept_scaling=1, max_iter=100, multi_class='multinomial',\n",
       "          n_jobs=1, penalty='l2', random_state=None, solver='newton-cg',\n",
       "          tol=0.0001, verbose=0, warm_start=False)"
      ]
     },
     "execution_count": 123,
     "metadata": {},
     "output_type": "execute_result"
    }
   ],
   "source": [
    "log_model.fit(new,y_resampled)"
   ]
  },
  {
   "cell_type": "markdown",
   "metadata": {},
   "source": [
    "#### Predictions"
   ]
  },
  {
   "cell_type": "code",
   "execution_count": 124,
   "metadata": {
    "collapsed": true
   },
   "outputs": [],
   "source": [
    "lp = log_model.predict(new_test)"
   ]
  },
  {
   "cell_type": "code",
   "execution_count": 125,
   "metadata": {},
   "outputs": [
    {
     "name": "stdout",
     "output_type": "stream",
     "text": [
      "             precision    recall  f1-score   support\n",
      "\n",
      "          0       0.18      0.40      0.25      2213\n",
      "          1       0.43      0.27      0.34      6930\n",
      "          2       0.63      0.63      0.63     10468\n",
      "\n",
      "avg / total       0.51      0.48      0.48     19611\n",
      "\n",
      "Accuracy: 0.475804395492\n"
     ]
    }
   ],
   "source": [
    "print(metrics.classification_report(ytest,lp))\n",
    "print('Accuracy:',metrics.accuracy_score(ytest,lp))"
   ]
  },
  {
   "cell_type": "markdown",
   "metadata": {
    "collapsed": true
   },
   "source": [
    "### XGBoost"
   ]
  },
  {
   "cell_type": "code",
   "execution_count": 126,
   "metadata": {
    "collapsed": true
   },
   "outputs": [],
   "source": [
    "xg = XGBClassifier(objective='multi:softmax',num_class = 3,n_estimators=150,subsample=0.8,min_child_weight=1,max_depth=5,nthread=4)"
   ]
  },
  {
   "cell_type": "code",
   "execution_count": 127,
   "metadata": {},
   "outputs": [
    {
     "data": {
      "text/plain": [
       "XGBClassifier(base_score=0.5, booster='gbtree', colsample_bylevel=1,\n",
       "       colsample_bytree=1, gamma=0, learning_rate=0.1, max_delta_step=0,\n",
       "       max_depth=5, min_child_weight=1, missing=None, n_estimators=150,\n",
       "       n_jobs=1, nthread=4, num_class=3, objective='multi:softprob',\n",
       "       random_state=0, reg_alpha=0, reg_lambda=1, scale_pos_weight=1,\n",
       "       seed=None, silent=True, subsample=0.8)"
      ]
     },
     "execution_count": 127,
     "metadata": {},
     "output_type": "execute_result"
    }
   ],
   "source": [
    "xg.fit(np.array(new),np.array(y_resampled))"
   ]
  },
  {
   "cell_type": "markdown",
   "metadata": {},
   "source": [
    "#### Predictions"
   ]
  },
  {
   "cell_type": "code",
   "execution_count": 128,
   "metadata": {
    "collapsed": true
   },
   "outputs": [],
   "source": [
    "xp = xg.predict(np.array(new_test))"
   ]
  },
  {
   "cell_type": "code",
   "execution_count": 129,
   "metadata": {},
   "outputs": [
    {
     "name": "stdout",
     "output_type": "stream",
     "text": [
      "             precision    recall  f1-score   support\n",
      "\n",
      "          0       0.04      0.42      0.08       226\n",
      "          1       0.38      0.50      0.43      5342\n",
      "          2       0.82      0.61      0.70     14043\n",
      "\n",
      "avg / total       0.69      0.58      0.62     19611\n",
      "\n",
      "Accuracy: 0.577584008975\n"
     ]
    }
   ],
   "source": [
    "print(metrics.classification_report(xp,ytest))\n",
    "print('Accuracy:',metrics.accuracy_score(xp,ytest))"
   ]
  },
  {
   "attachments": {},
   "cell_type": "markdown",
   "metadata": {},
   "source": [
    "### Approach 3\n",
    "\n",
    "\n",
    "In this approach, target variable is made to binary class from multiclass \n",
    "\n",
    "Target as Yes or No.\n",
    "\n",
    "Target as >30 or <30.\n"
   ]
  },
  {
   "cell_type": "markdown",
   "metadata": {},
   "source": [
    "### Target: Yes/No"
   ]
  },
  {
   "cell_type": "code",
   "execution_count": 130,
   "metadata": {
    "collapsed": true
   },
   "outputs": [],
   "source": [
    "c = y"
   ]
  },
  {
   "cell_type": "code",
   "execution_count": 131,
   "metadata": {
    "collapsed": true
   },
   "outputs": [],
   "source": [
    "c = c.replace(0,1) # Replacing >30 and <30 to Yes"
   ]
  },
  {
   "cell_type": "code",
   "execution_count": 132,
   "metadata": {},
   "outputs": [
    {
     "data": {
      "text/plain": [
       "2    52338\n",
       "1    45715\n",
       "0        0\n",
       "Name: readmitted, dtype: int64"
      ]
     },
     "execution_count": 132,
     "metadata": {},
     "output_type": "execute_result"
    }
   ],
   "source": [
    "c.value_counts() # levels"
   ]
  },
  {
   "cell_type": "code",
   "execution_count": 133,
   "metadata": {
    "collapsed": true
   },
   "outputs": [],
   "source": [
    "c = c.cat.remove_unused_categories()"
   ]
  },
  {
   "cell_type": "code",
   "execution_count": 134,
   "metadata": {},
   "outputs": [
    {
     "data": {
      "text/plain": [
       "2    52338\n",
       "1    45715\n",
       "dtype: int64"
      ]
     },
     "execution_count": 134,
     "metadata": {},
     "output_type": "execute_result"
    }
   ],
   "source": [
    "c.value_counts()"
   ]
  },
  {
   "cell_type": "code",
   "execution_count": 135,
   "metadata": {
    "collapsed": true
   },
   "outputs": [],
   "source": [
    "# Test train and validation split\n",
    "a_xt,a_xte,a_yt,a_yte = train_test_split(x,c,test_size = 0.2)\n",
    "xtra,xte,ytra,yte = train_test_split(a_xt,a_yt,test_size = 0.2)"
   ]
  },
  {
   "cell_type": "markdown",
   "metadata": {},
   "source": [
    "### Logistic"
   ]
  },
  {
   "cell_type": "code",
   "execution_count": 136,
   "metadata": {
    "collapsed": true
   },
   "outputs": [],
   "source": [
    "l = LogisticRegression(multi_class='multinomial',solver='newton-cg')"
   ]
  },
  {
   "cell_type": "code",
   "execution_count": 137,
   "metadata": {},
   "outputs": [
    {
     "data": {
      "text/plain": [
       "LogisticRegression(C=1.0, class_weight=None, dual=False, fit_intercept=True,\n",
       "          intercept_scaling=1, max_iter=100, multi_class='multinomial',\n",
       "          n_jobs=1, penalty='l2', random_state=None, solver='newton-cg',\n",
       "          tol=0.0001, verbose=0, warm_start=False)"
      ]
     },
     "execution_count": 137,
     "metadata": {},
     "output_type": "execute_result"
    }
   ],
   "source": [
    "l.fit(xtra,ytra)"
   ]
  },
  {
   "cell_type": "markdown",
   "metadata": {},
   "source": [
    "#### Predictions"
   ]
  },
  {
   "cell_type": "code",
   "execution_count": 138,
   "metadata": {
    "collapsed": true
   },
   "outputs": [],
   "source": [
    "lpred = l.predict(xte)"
   ]
  },
  {
   "cell_type": "code",
   "execution_count": 139,
   "metadata": {},
   "outputs": [
    {
     "name": "stdout",
     "output_type": "stream",
     "text": [
      "             precision    recall  f1-score   support\n",
      "\n",
      "          1       0.64      0.42      0.50      7266\n",
      "          2       0.61      0.80      0.69      8423\n",
      "\n",
      "avg / total       0.63      0.62      0.61     15689\n",
      "\n",
      "Accuracy: 0.620817133023\n"
     ]
    }
   ],
   "source": [
    "print(metrics.classification_report(yte,lpred))\n",
    "print('Accuracy:',metrics.accuracy_score(yte,lpred))"
   ]
  },
  {
   "cell_type": "markdown",
   "metadata": {},
   "source": [
    "### Random Forest"
   ]
  },
  {
   "cell_type": "code",
   "execution_count": 140,
   "metadata": {},
   "outputs": [
    {
     "data": {
      "text/plain": [
       "RandomForestClassifier(bootstrap=True, class_weight=None, criterion='gini',\n",
       "            max_depth=10, max_features='auto', max_leaf_nodes=None,\n",
       "            min_impurity_decrease=0.0, min_impurity_split=None,\n",
       "            min_samples_leaf=1, min_samples_split=2,\n",
       "            min_weight_fraction_leaf=0.0, n_estimators=100, n_jobs=1,\n",
       "            oob_score=False, random_state=None, verbose=0,\n",
       "            warm_start=False)"
      ]
     },
     "execution_count": 140,
     "metadata": {},
     "output_type": "execute_result"
    }
   ],
   "source": [
    "random_model.fit(xtra,ytra)"
   ]
  },
  {
   "attachments": {},
   "cell_type": "markdown",
   "metadata": {},
   "source": [
    "#### Predictions"
   ]
  },
  {
   "cell_type": "code",
   "execution_count": 141,
   "metadata": {
    "collapsed": true
   },
   "outputs": [],
   "source": [
    "rpred = random_model.predict(xte)"
   ]
  },
  {
   "cell_type": "code",
   "execution_count": 142,
   "metadata": {},
   "outputs": [
    {
     "name": "stdout",
     "output_type": "stream",
     "text": [
      "             precision    recall  f1-score   support\n",
      "\n",
      "          1       0.64      0.49      0.56      7266\n",
      "          2       0.63      0.76      0.69      8423\n",
      "\n",
      "avg / total       0.64      0.64      0.63     15689\n",
      "\n",
      "Accuracy is  0.635668302632\n"
     ]
    }
   ],
   "source": [
    "print(metrics.classification_report(y_pred=rpred,y_true=yte))\n",
    "print('Accuracy is ',metrics.accuracy_score(yte,rpred))"
   ]
  },
  {
   "cell_type": "markdown",
   "metadata": {},
   "source": [
    "### MLP"
   ]
  },
  {
   "cell_type": "code",
   "execution_count": 143,
   "metadata": {
    "collapsed": true
   },
   "outputs": [],
   "source": [
    "d = c"
   ]
  },
  {
   "cell_type": "code",
   "execution_count": 144,
   "metadata": {
    "collapsed": true
   },
   "outputs": [],
   "source": [
    "d = d.replace(1,0)"
   ]
  },
  {
   "cell_type": "code",
   "execution_count": 145,
   "metadata": {
    "collapsed": true
   },
   "outputs": [],
   "source": [
    "d = d.replace(2,1)"
   ]
  },
  {
   "cell_type": "code",
   "execution_count": 146,
   "metadata": {
    "collapsed": true
   },
   "outputs": [],
   "source": [
    "model = Sequential()\n",
    "model.add(Dense(150,input_dim = 41,activation = 'sigmoid'))\n",
    "model.add(Dropout(0.3))\n",
    "model.add(Dense(100,activation = 'sigmoid',))\n",
    "model.add(Dense(2,activation='sigmoid'))\n",
    "model.compile(loss = 'binary_crossentropy', optimizer='adam', metrics= ['accuracy'])"
   ]
  },
  {
   "cell_type": "code",
   "execution_count": 147,
   "metadata": {},
   "outputs": [
    {
     "data": {
      "text/plain": [
       "Int64Index([1, 2], dtype='int64')"
      ]
     },
     "execution_count": 147,
     "metadata": {},
     "output_type": "execute_result"
    }
   ],
   "source": [
    "c.cat.categories"
   ]
  },
  {
   "cell_type": "code",
   "execution_count": 148,
   "metadata": {},
   "outputs": [
    {
     "name": "stdout",
     "output_type": "stream",
     "text": [
      "Epoch 1/10\n",
      "98053/98053 [==============================] - 3s - loss: 0.6687 - acc: 0.5864     \n",
      "Epoch 2/10\n",
      "98053/98053 [==============================] - 3s - loss: 0.6571 - acc: 0.6101     \n",
      "Epoch 3/10\n",
      "98053/98053 [==============================] - 3s - loss: 0.6544 - acc: 0.6129     \n",
      "Epoch 4/10\n",
      "98053/98053 [==============================] - 3s - loss: 0.6517 - acc: 0.6160     \n",
      "Epoch 5/10\n",
      "98053/98053 [==============================] - 3s - loss: 0.6492 - acc: 0.6198     \n",
      "Epoch 6/10\n",
      "98053/98053 [==============================] - 3s - loss: 0.6474 - acc: 0.6215     \n",
      "Epoch 7/10\n",
      "98053/98053 [==============================] - 3s - loss: 0.6459 - acc: 0.6207     \n",
      "Epoch 8/10\n",
      "98053/98053 [==============================] - 3s - loss: 0.6441 - acc: 0.6228     \n",
      "Epoch 9/10\n",
      "98053/98053 [==============================] - 3s - loss: 0.6425 - acc: 0.6240     \n",
      "Epoch 10/10\n",
      "98053/98053 [==============================] - 3s - loss: 0.6416 - acc: 0.6252     \n"
     ]
    },
    {
     "data": {
      "text/plain": [
       "<keras.callbacks.History at 0x23b5872b828>"
      ]
     },
     "execution_count": 148,
     "metadata": {},
     "output_type": "execute_result"
    }
   ],
   "source": [
    "model.fit(np.array(x),to_categorical(d),batch_size=128)"
   ]
  },
  {
   "cell_type": "code",
   "execution_count": 149,
   "metadata": {
    "collapsed": true
   },
   "outputs": [],
   "source": [
    "f = yte"
   ]
  },
  {
   "cell_type": "code",
   "execution_count": 150,
   "metadata": {
    "collapsed": true
   },
   "outputs": [],
   "source": [
    "f = f.replace(1,0)"
   ]
  },
  {
   "cell_type": "code",
   "execution_count": 151,
   "metadata": {
    "collapsed": true
   },
   "outputs": [],
   "source": [
    "f = f.replace(2,1)"
   ]
  },
  {
   "cell_type": "markdown",
   "metadata": {},
   "source": [
    "#### Predictions"
   ]
  },
  {
   "cell_type": "code",
   "execution_count": 152,
   "metadata": {},
   "outputs": [
    {
     "name": "stdout",
     "output_type": "stream",
     "text": [
      "14720/15689 [===========================>..] - ETA: 0s"
     ]
    },
    {
     "data": {
      "text/plain": [
       "[0.63468037983816361, 0.63423417681557814]"
      ]
     },
     "execution_count": 152,
     "metadata": {},
     "output_type": "execute_result"
    }
   ],
   "source": [
    "model.evaluate(np.array(xte),to_categorical(f))"
   ]
  },
  {
   "cell_type": "code",
   "execution_count": 153,
   "metadata": {},
   "outputs": [
    {
     "name": "stdout",
     "output_type": "stream",
     "text": [
      "14368/15689 [==========================>...] - ETA: 0s"
     ]
    }
   ],
   "source": [
    "a = model.predict_classes(np.array(xte))"
   ]
  },
  {
   "cell_type": "code",
   "execution_count": 154,
   "metadata": {},
   "outputs": [
    {
     "name": "stdout",
     "output_type": "stream",
     "text": [
      "             precision    recall  f1-score   support\n",
      "\n",
      "          0       0.62      0.54      0.58      7266\n",
      "          1       0.64      0.71      0.68      8423\n",
      "\n",
      "avg / total       0.63      0.63      0.63     15689\n",
      "\n",
      "0.634202307349\n"
     ]
    }
   ],
   "source": [
    "print(metrics.classification_report(f,a))\n",
    "print(metrics.accuracy_score(f,a))"
   ]
  },
  {
   "cell_type": "markdown",
   "metadata": {},
   "source": [
    "### Target:  >30 Days / <30 Days"
   ]
  },
  {
   "cell_type": "code",
   "execution_count": 155,
   "metadata": {
    "collapsed": true
   },
   "outputs": [],
   "source": [
    "d = y"
   ]
  },
  {
   "cell_type": "code",
   "execution_count": 156,
   "metadata": {
    "collapsed": true
   },
   "outputs": [],
   "source": [
    "d = d.replace(2,np.NAN)"
   ]
  },
  {
   "cell_type": "code",
   "execution_count": 157,
   "metadata": {
    "collapsed": true
   },
   "outputs": [],
   "source": [
    "r = [x,d]\n",
    "r = pd.concat(r,1)"
   ]
  },
  {
   "cell_type": "code",
   "execution_count": 158,
   "metadata": {
    "collapsed": true
   },
   "outputs": [],
   "source": [
    "r = r.dropna(axis=0)"
   ]
  },
  {
   "cell_type": "code",
   "execution_count": 159,
   "metadata": {},
   "outputs": [
    {
     "data": {
      "text/plain": [
       "(45715, 42)"
      ]
     },
     "execution_count": 159,
     "metadata": {},
     "output_type": "execute_result"
    }
   ],
   "source": [
    "r.shape"
   ]
  },
  {
   "cell_type": "code",
   "execution_count": 160,
   "metadata": {
    "collapsed": true
   },
   "outputs": [],
   "source": [
    "xa  = r.drop('readmitted',axis=1)\n",
    "ya = r.readmitted"
   ]
  },
  {
   "cell_type": "code",
   "execution_count": 161,
   "metadata": {
    "collapsed": true
   },
   "outputs": [],
   "source": [
    "# Train test split\n",
    "xtrains,xtests,ytrains,ytests = train_test_split(xa,ya,test_size = 0.2)"
   ]
  },
  {
   "cell_type": "markdown",
   "metadata": {},
   "source": [
    "### Logistic"
   ]
  },
  {
   "cell_type": "code",
   "execution_count": 162,
   "metadata": {},
   "outputs": [
    {
     "data": {
      "text/plain": [
       "LogisticRegression(C=1.0, class_weight=None, dual=False, fit_intercept=True,\n",
       "          intercept_scaling=1, max_iter=100, multi_class='multinomial',\n",
       "          n_jobs=1, penalty='l2', random_state=None, solver='newton-cg',\n",
       "          tol=0.0001, verbose=0, warm_start=False)"
      ]
     },
     "execution_count": 162,
     "metadata": {},
     "output_type": "execute_result"
    }
   ],
   "source": [
    "log_model.fit(xtrains,ytrains)"
   ]
  },
  {
   "cell_type": "markdown",
   "metadata": {},
   "source": [
    "#### Predictions"
   ]
  },
  {
   "cell_type": "code",
   "execution_count": 163,
   "metadata": {
    "collapsed": true
   },
   "outputs": [],
   "source": [
    "ll = log_model.predict(xtests)"
   ]
  },
  {
   "cell_type": "code",
   "execution_count": 164,
   "metadata": {},
   "outputs": [
    {
     "name": "stdout",
     "output_type": "stream",
     "text": [
      "             precision    recall  f1-score   support\n",
      "\n",
      "          0       0.02      0.60      0.03        58\n",
      "          1       1.00      0.76      0.86      9085\n",
      "\n",
      "avg / total       0.99      0.76      0.86      9143\n",
      "\n",
      "accuracy is  0.759269386416\n"
     ]
    }
   ],
   "source": [
    "print(metrics.classification_report(ll,ytests))\n",
    "print('accuracy is ',metrics.accuracy_score(ytests,ll))"
   ]
  },
  {
   "cell_type": "markdown",
   "metadata": {},
   "source": [
    "### Random Forest"
   ]
  },
  {
   "cell_type": "code",
   "execution_count": 165,
   "metadata": {},
   "outputs": [
    {
     "data": {
      "text/plain": [
       "RandomForestClassifier(bootstrap=True, class_weight=None, criterion='gini',\n",
       "            max_depth=10, max_features='auto', max_leaf_nodes=None,\n",
       "            min_impurity_decrease=0.0, min_impurity_split=None,\n",
       "            min_samples_leaf=1, min_samples_split=2,\n",
       "            min_weight_fraction_leaf=0.0, n_estimators=100, n_jobs=1,\n",
       "            oob_score=False, random_state=None, verbose=0,\n",
       "            warm_start=False)"
      ]
     },
     "execution_count": 165,
     "metadata": {},
     "output_type": "execute_result"
    }
   ],
   "source": [
    "random_model.fit(xtrains,ytrains)"
   ]
  },
  {
   "cell_type": "markdown",
   "metadata": {},
   "source": [
    "#### Predictions"
   ]
  },
  {
   "cell_type": "code",
   "execution_count": 166,
   "metadata": {
    "collapsed": true
   },
   "outputs": [],
   "source": [
    "rpp = random_model.predict(xtests)"
   ]
  },
  {
   "cell_type": "code",
   "execution_count": 167,
   "metadata": {},
   "outputs": [
    {
     "name": "stdout",
     "output_type": "stream",
     "text": [
      "             precision    recall  f1-score   support\n",
      "\n",
      "          0       0.01      0.80      0.01        15\n",
      "          1       1.00      0.76      0.86      9128\n",
      "\n",
      "avg / total       1.00      0.76      0.86      9143\n",
      "\n",
      "accuracy is  0.758941266543\n"
     ]
    }
   ],
   "source": [
    "print(metrics.classification_report(rpp,ytests))\n",
    "print('accuracy is ',metrics.accuracy_score(ytests,rpp))"
   ]
  },
  {
   "cell_type": "markdown",
   "metadata": {},
   "source": [
    "### MLP"
   ]
  },
  {
   "cell_type": "code",
   "execution_count": 168,
   "metadata": {
    "collapsed": true
   },
   "outputs": [],
   "source": [
    "model = Sequential()\n",
    "model.add(Dense(150,input_dim = 41,activation = 'sigmoid'))\n",
    "model.add(Dropout(0.3))\n",
    "model.add(Dense(100,activation = 'sigmoid',))\n",
    "model.add(Dense(2,activation='sigmoid'))\n",
    "model.compile(loss = 'binary_crossentropy', optimizer='adam', metrics= ['accuracy'])"
   ]
  },
  {
   "cell_type": "code",
   "execution_count": 169,
   "metadata": {},
   "outputs": [
    {
     "name": "stdout",
     "output_type": "stream",
     "text": [
      "Epoch 1/10\n",
      "36572/36572 [==============================] - 2s - loss: 0.5534 - acc: 0.7558     \n",
      "Epoch 2/10\n",
      "36572/36572 [==============================] - 2s - loss: 0.5476 - acc: 0.7579     \n",
      "Epoch 3/10\n",
      "36572/36572 [==============================] - 2s - loss: 0.5462 - acc: 0.7581     \n",
      "Epoch 4/10\n",
      "36572/36572 [==============================] - 2s - loss: 0.5457 - acc: 0.7581     \n",
      "Epoch 5/10\n",
      "36572/36572 [==============================] - 2s - loss: 0.5451 - acc: 0.7580     \n",
      "Epoch 6/10\n",
      "36572/36572 [==============================] - 2s - loss: 0.5445 - acc: 0.7583     \n",
      "Epoch 7/10\n",
      "36572/36572 [==============================] - 2s - loss: 0.5442 - acc: 0.7581     \n",
      "Epoch 8/10\n",
      "36572/36572 [==============================] - 2s - loss: 0.5437 - acc: 0.7582     \n",
      "Epoch 9/10\n",
      "36572/36572 [==============================] - 2s - loss: 0.5432 - acc: 0.7585     \n",
      "Epoch 10/10\n",
      "36572/36572 [==============================] - 2s - loss: 0.5430 - acc: 0.7581     \n"
     ]
    },
    {
     "data": {
      "text/plain": [
       "<keras.callbacks.History at 0x23b63909160>"
      ]
     },
     "execution_count": 169,
     "metadata": {},
     "output_type": "execute_result"
    }
   ],
   "source": [
    "model.fit(np.array(xtrains),to_categorical(ytrains))"
   ]
  },
  {
   "cell_type": "code",
   "execution_count": 170,
   "metadata": {},
   "outputs": [
    {
     "name": "stdout",
     "output_type": "stream",
     "text": [
      "8128/9143 [=========================>....] - ETA: 0s"
     ]
    },
    {
     "data": {
      "text/plain": [
       "[0.54084882641808674, 0.75932407304180094]"
      ]
     },
     "execution_count": 170,
     "metadata": {},
     "output_type": "execute_result"
    }
   ],
   "source": [
    "model.evaluate(np.array(xtests),to_categorical(ytests))#Predictions"
   ]
  }
 ],
 "metadata": {
  "kernelspec": {
   "display_name": "Python 3",
   "language": "python",
   "name": "python3"
  },
  "language_info": {
   "codemirror_mode": {
    "name": "ipython",
    "version": 3
   },
   "file_extension": ".py",
   "mimetype": "text/x-python",
   "name": "python",
   "nbconvert_exporter": "python",
   "pygments_lexer": "ipython3",
   "version": "3.6.1"
  }
 },
 "nbformat": 4,
 "nbformat_minor": 2
}
